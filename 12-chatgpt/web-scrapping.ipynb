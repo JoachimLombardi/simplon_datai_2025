{
 "cells": [
  {
   "cell_type": "code",
   "execution_count": 14,
   "metadata": {},
   "outputs": [
    {
     "name": "stdout",
     "output_type": "stream",
     "text": [
      "/wiki/Main_Page\n",
      "/wiki/Wikipedia:Contents\n",
      "/wiki/Portal:Current_events\n",
      "/wiki/Special:Random\n",
      "/wiki/Wikipedia:About\n",
      "/wiki/Help:Contents\n",
      "/wiki/Help:Introduction\n",
      "/wiki/Wikipedia:Community_portal\n",
      "/wiki/Special:RecentChanges\n",
      "/wiki/Wikipedia:File_upload_wizard\n",
      "/wiki/Main_Page\n",
      "/wiki/Special:Search\n",
      "/wiki/Help:Introduction\n",
      "/wiki/Special:MyContributions\n",
      "/wiki/Special:MyTalk\n",
      "/wiki/Special:WhatLinksHere/Apprentissage_automatique\n",
      "/wiki/Wikipedia:File_Upload_Wizard\n",
      "/wiki/Special:SpecialPages\n",
      "/wiki/Special:SiteMatrix\n",
      "/wiki/Special:WhatLinksHere/Apprentissage_automatique\n",
      "/wiki/Special:Purge/Apprentissage_automatique\n",
      "/wiki/Case_sensitivity\n",
      "/wiki/Wikipedia:Redirect\n",
      "/wiki/Wikipedia:Why_was_the_page_I_created_deleted%3F\n",
      "/wiki/Wikipedia:About\n",
      "/wiki/Wikipedia:General_disclaimer\n"
     ]
    }
   ],
   "source": [
    "# Python 3\n",
    "# Extraction des liens d'une page web\n",
    "from bs4 import BeautifulSoup\n",
    "import requests\n",
    "\n",
    "requete = requests.get('https://en.wikipedia.org/wiki/Apprentissage_automatique')\n",
    "page = BeautifulSoup(requete.text, 'html.parser')\n",
    "\n",
    "links = page.find_all('a')\n",
    "http_links = [f\"{link.get('href')}\" for link in links if link.get('href') and link.get('href').startswith('/wiki')]  \n",
    "for link in http_links:\n",
    "    print(link)  \n",
    "\n"
   ]
  },
  {
   "cell_type": "code",
   "execution_count": 15,
   "metadata": {},
   "outputs": [],
   "source": [
    "for link in http_links:\n",
    "    requete = requests.get(\"https://en.wikipedia.org\" + link)\n",
    "    page = BeautifulSoup(requete.text, 'html.parser')\n",
    "    h_1 = page.find_all('h1')\n",
    "    for h in h_1:\n",
    "        with open('h1.txt', 'a') as f:\n",
    "            f.write(h.text + '\\n')"
   ]
  },
  {
   "cell_type": "code",
   "execution_count": 16,
   "metadata": {},
   "outputs": [],
   "source": [
    "with open('h1.txt', 'r') as f:\n",
    "    titles = f.read()"
   ]
  },
  {
   "cell_type": "code",
   "execution_count": 49,
   "metadata": {},
   "outputs": [
    {
     "ename": "TypeError",
     "evalue": "string indices must be integers, not 'str'",
     "output_type": "error",
     "traceback": [
      "\u001b[1;31m---------------------------------------------------------------------------\u001b[0m",
      "\u001b[1;31mTypeError\u001b[0m                                 Traceback (most recent call last)",
      "\u001b[1;32mc:\\Users\\User\\Desktop\\Simplon datai\\simplon_datai_2025\\13-scrapping\\web-scrapping.ipynb Cell 4\u001b[0m line \u001b[0;36m1\n\u001b[0;32m     <a href='vscode-notebook-cell:/c%3A/Users/User/Desktop/Simplon%20datai/simplon_datai_2025/13-scrapping/web-scrapping.ipynb#W4sZmlsZQ%3D%3D?line=15'>16</a>\u001b[0m     title_dict[\u001b[39m\"\u001b[39m\u001b[39mURL\u001b[39m\u001b[39m\"\u001b[39m] \u001b[39m=\u001b[39m link\n\u001b[0;32m     <a href='vscode-notebook-cell:/c%3A/Users/User/Desktop/Simplon%20datai/simplon_datai_2025/13-scrapping/web-scrapping.ipynb#W4sZmlsZQ%3D%3D?line=16'>17</a>\u001b[0m     title_embeddings\u001b[39m.\u001b[39mappend(title_dict)\n\u001b[1;32m---> <a href='vscode-notebook-cell:/c%3A/Users/User/Desktop/Simplon%20datai/simplon_datai_2025/13-scrapping/web-scrapping.ipynb#W4sZmlsZQ%3D%3D?line=17'>18</a>\u001b[0m     ar \u001b[39m=\u001b[39m np\u001b[39m.\u001b[39marray(\u001b[39mint\u001b[39m(title[\u001b[39m'\u001b[39;49m\u001b[39membeddings\u001b[39;49m\u001b[39m'\u001b[39;49m]))\n\u001b[0;32m     <a href='vscode-notebook-cell:/c%3A/Users/User/Desktop/Simplon%20datai/simplon_datai_2025/13-scrapping/web-scrapping.ipynb#W4sZmlsZQ%3D%3D?line=18'>19</a>\u001b[0m \u001b[39mwith\u001b[39;00m \u001b[39mopen\u001b[39m(\u001b[39m'\u001b[39m\u001b[39mtitle_embeddings.text\u001b[39m\u001b[39m'\u001b[39m, \u001b[39m'\u001b[39m\u001b[39ma\u001b[39m\u001b[39m'\u001b[39m) \u001b[39mas\u001b[39;00m f:\n\u001b[0;32m     <a href='vscode-notebook-cell:/c%3A/Users/User/Desktop/Simplon%20datai/simplon_datai_2025/13-scrapping/web-scrapping.ipynb#W4sZmlsZQ%3D%3D?line=19'>20</a>\u001b[0m     f\u001b[39m.\u001b[39mwrite(ar)\n",
      "\u001b[1;31mTypeError\u001b[0m: string indices must be integers, not 'str'"
     ]
    }
   ],
   "source": [
    "from openai import OpenAI\n",
    "import openai\n",
    "import json\n",
    "import os\n",
    "import numpy as np\n",
    "client = OpenAI()\n",
    "openai.api_key = os.getenv(\"OPENAI_API_KEY\")\n",
    "title_embeddings = []\n",
    "for title, link in zip(titles.split('\\n'), http_links):\n",
    "    title_dict = {}\n",
    "    response = client.embeddings.create(\n",
    "        input=title,\n",
    "        model=\"text-embedding-ada-002\"\n",
    "    )\n",
    "    title_dict[\"embeddings\"] = response.data[0].embedding\n",
    "    title_dict[\"URL\"] = link\n",
    "    title_embeddings.append(title_dict)\n",
    "    ar = np.array(title['embeddings'])\n",
    "with open('title_embeddings.text', 'a') as f:\n",
    "    f.write(ar)\n"
   ]
  },
  {
   "cell_type": "code",
   "execution_count": null,
   "metadata": {},
   "outputs": [],
   "source": []
  },
  {
   "cell_type": "code",
   "execution_count": null,
   "metadata": {},
   "outputs": [],
   "source": []
  },
  {
   "cell_type": "code",
   "execution_count": null,
   "metadata": {},
   "outputs": [],
   "source": []
  },
  {
   "cell_type": "code",
   "execution_count": null,
   "metadata": {},
   "outputs": [],
   "source": []
  },
  {
   "cell_type": "code",
   "execution_count": null,
   "metadata": {},
   "outputs": [],
   "source": []
  }
 ],
 "metadata": {
  "kernelspec": {
   "display_name": "base",
   "language": "python",
   "name": "python3"
  },
  "language_info": {
   "codemirror_mode": {
    "name": "ipython",
    "version": 3
   },
   "file_extension": ".py",
   "mimetype": "text/x-python",
   "name": "python",
   "nbconvert_exporter": "python",
   "pygments_lexer": "ipython3",
   "version": "3.11.5"
  }
 },
 "nbformat": 4,
 "nbformat_minor": 2
}
