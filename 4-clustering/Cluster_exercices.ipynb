{
 "cells": [
  {
   "cell_type": "markdown",
   "metadata": {},
   "source": [
    "# Clustering exercices on Popular Halloween Costumes in 2020"
   ]
  },
  {
   "cell_type": "code",
   "execution_count": 13,
   "metadata": {},
   "outputs": [],
   "source": [
    "from sklearn.datasets import fetch_openml\n",
    "import pandas as pd"
   ]
  },
  {
   "cell_type": "markdown",
   "metadata": {},
   "source": [
    "\n",
    "## Context\n",
    " > So it's Halloween again dear Kagglers! And what better way of celebrating than with some NLP! The dataset brings you the reviews of popular Halloween costumes sold on amazon as of November 2020. Content The dataset contains popular costumes from the Amazon website, for each costume there are user review texts including the review title and the review score, also you will find the publishing date and location. The data hasn't been preprocessed in any way so I think it can be a great exercise for aspiring data scientists who are looking to sharpen their skills in text preprocessing skills and feature extraction skills.\n",
    "\n",
    "Import data from this website: https://www.openml.org/search?type=data&status=active&id=43360"
   ]
  },
  {
   "cell_type": "code",
   "execution_count": 16,
   "metadata": {},
   "outputs": [
    {
     "name": "stderr",
     "output_type": "stream",
     "text": [
      "c:\\Users\\User\\AppData\\Local\\Programs\\Python\\Python311\\Lib\\site-packages\\sklearn\\datasets\\_openml.py:1002: FutureWarning: The default value of `parser` will change from `'liac-arff'` to `'auto'` in 1.4. You can set `parser='auto'` to silence this warning. Therefore, an `ImportError` will be raised from 1.4 if the dataset is dense and pandas is not installed. Note that the pandas parser may return different data types. See the Notes Section in fetch_openml's API doc for details.\n",
      "  warn(\n"
     ]
    }
   ],
   "source": [
    "# Charge les données\n",
    "data = fetch_openml(name=\"Popular-Halloween-2020--Costumes-Amazon-Reviews\") \n",
    "X = data[\"data\"] \n",
    "y = data[\"target\"]"
   ]
  },
  {
   "cell_type": "code",
   "execution_count": 17,
   "metadata": {},
   "outputs": [
    {
     "data": {
      "text/html": [
       "<div>\n",
       "<style scoped>\n",
       "    .dataframe tbody tr th:only-of-type {\n",
       "        vertical-align: middle;\n",
       "    }\n",
       "\n",
       "    .dataframe tbody tr th {\n",
       "        vertical-align: top;\n",
       "    }\n",
       "\n",
       "    .dataframe thead th {\n",
       "        text-align: right;\n",
       "    }\n",
       "</style>\n",
       "<table border=\"1\" class=\"dataframe\">\n",
       "  <thead>\n",
       "    <tr style=\"text-align: right;\">\n",
       "      <th></th>\n",
       "      <th>text</th>\n",
       "      <th>date</th>\n",
       "      <th>title</th>\n",
       "      <th>rating</th>\n",
       "      <th>product_name</th>\n",
       "    </tr>\n",
       "  </thead>\n",
       "  <tbody>\n",
       "    <tr>\n",
       "      <th>0</th>\n",
       "      <td>\\n  This wig is definitely not for adults. We ...</td>\n",
       "      <td>Reviewed in the United States on December 28, ...</td>\n",
       "      <td>Too small for any adult</td>\n",
       "      <td>2</td>\n",
       "      <td>Chestnut Cone Wig wWig Cap Cosplay Costume Par...</td>\n",
       "    </tr>\n",
       "    <tr>\n",
       "      <th>1</th>\n",
       "      <td>\\n  Awesome wig! Got compliments on it all nig...</td>\n",
       "      <td>Reviewed in the United States on October 27, 2019</td>\n",
       "      <td>Overall great wig</td>\n",
       "      <td>4</td>\n",
       "      <td>Chestnut Cone Wig wWig Cap Cosplay Costume Par...</td>\n",
       "    </tr>\n",
       "    <tr>\n",
       "      <th>2</th>\n",
       "      <td>\\n  One size fits most kids but too small for ...</td>\n",
       "      <td>Reviewed in the United States on September 30,...</td>\n",
       "      <td>Too small for average adult head</td>\n",
       "      <td>2</td>\n",
       "      <td>Chestnut Cone Wig wWig Cap Cosplay Costume Par...</td>\n",
       "    </tr>\n",
       "    <tr>\n",
       "      <th>3</th>\n",
       "      <td>\\n  Fit snug but got so many compliments ! Wor...</td>\n",
       "      <td>Reviewed in the United States on February 3, 2019</td>\n",
       "      <td>Cute wig</td>\n",
       "      <td>5</td>\n",
       "      <td>Chestnut Cone Wig wWig Cap Cosplay Costume Par...</td>\n",
       "    </tr>\n",
       "    <tr>\n",
       "      <th>4</th>\n",
       "      <td>\\n  This is a very fun piece. Everyone who saw...</td>\n",
       "      <td>Reviewed in the United States on July 27, 2018</td>\n",
       "      <td>Great piece</td>\n",
       "      <td>5</td>\n",
       "      <td>Chestnut Cone Wig wWig Cap Cosplay Costume Par...</td>\n",
       "    </tr>\n",
       "  </tbody>\n",
       "</table>\n",
       "</div>"
      ],
      "text/plain": [
       "                                                text  \\\n",
       "0  \\n  This wig is definitely not for adults. We ...   \n",
       "1  \\n  Awesome wig! Got compliments on it all nig...   \n",
       "2  \\n  One size fits most kids but too small for ...   \n",
       "3  \\n  Fit snug but got so many compliments ! Wor...   \n",
       "4  \\n  This is a very fun piece. Everyone who saw...   \n",
       "\n",
       "                                                date  \\\n",
       "0  Reviewed in the United States on December 28, ...   \n",
       "1  Reviewed in the United States on October 27, 2019   \n",
       "2  Reviewed in the United States on September 30,...   \n",
       "3  Reviewed in the United States on February 3, 2019   \n",
       "4     Reviewed in the United States on July 27, 2018   \n",
       "\n",
       "                              title  rating  \\\n",
       "0           Too small for any adult       2   \n",
       "1                 Overall great wig       4   \n",
       "2  Too small for average adult head       2   \n",
       "3                          Cute wig       5   \n",
       "4                       Great piece       5   \n",
       "\n",
       "                                        product_name  \n",
       "0  Chestnut Cone Wig wWig Cap Cosplay Costume Par...  \n",
       "1  Chestnut Cone Wig wWig Cap Cosplay Costume Par...  \n",
       "2  Chestnut Cone Wig wWig Cap Cosplay Costume Par...  \n",
       "3  Chestnut Cone Wig wWig Cap Cosplay Costume Par...  \n",
       "4  Chestnut Cone Wig wWig Cap Cosplay Costume Par...  "
      ]
     },
     "execution_count": 17,
     "metadata": {},
     "output_type": "execute_result"
    }
   ],
   "source": [
    "X.head()"
   ]
  },
  {
   "cell_type": "code",
   "execution_count": null,
   "metadata": {},
   "outputs": [],
   "source": []
  },
  {
   "cell_type": "code",
   "execution_count": null,
   "metadata": {},
   "outputs": [],
   "source": []
  },
  {
   "cell_type": "code",
   "execution_count": null,
   "metadata": {},
   "outputs": [],
   "source": []
  },
  {
   "cell_type": "code",
   "execution_count": null,
   "metadata": {},
   "outputs": [],
   "source": []
  },
  {
   "cell_type": "code",
   "execution_count": null,
   "metadata": {},
   "outputs": [],
   "source": []
  },
  {
   "cell_type": "code",
   "execution_count": null,
   "metadata": {},
   "outputs": [],
   "source": []
  },
  {
   "cell_type": "code",
   "execution_count": null,
   "metadata": {},
   "outputs": [],
   "source": []
  },
  {
   "cell_type": "code",
   "execution_count": null,
   "metadata": {},
   "outputs": [],
   "source": []
  },
  {
   "cell_type": "code",
   "execution_count": null,
   "metadata": {},
   "outputs": [],
   "source": []
  },
  {
   "cell_type": "code",
   "execution_count": null,
   "metadata": {},
   "outputs": [],
   "source": []
  }
 ],
 "metadata": {
  "kernelspec": {
   "display_name": "Python 3",
   "language": "python",
   "name": "python3"
  },
  "language_info": {
   "codemirror_mode": {
    "name": "ipython",
    "version": 3
   },
   "file_extension": ".py",
   "mimetype": "text/x-python",
   "name": "python",
   "nbconvert_exporter": "python",
   "pygments_lexer": "ipython3",
   "version": "3.11.4"
  }
 },
 "nbformat": 4,
 "nbformat_minor": 2
}
