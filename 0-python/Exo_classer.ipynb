{
 "cells": [
  {
   "cell_type": "code",
   "execution_count": 38,
   "metadata": {},
   "outputs": [],
   "source": [
    "import numpy as np"
   ]
  },
  {
   "cell_type": "code",
   "execution_count": 39,
   "metadata": {},
   "outputs": [],
   "source": [
    "def max(tableau:np.array(float)) -> float: \n",
    "    max = tableau[0]\n",
    "    indice_max = 0\n",
    "    for indice in range(1, len(tableau)):\n",
    "        if max < tableau[indice]:\n",
    "            max = tableau[indice]\n",
    "            indice_max = indice\n",
    "    return max, indice_max"
   ]
  },
  {
   "cell_type": "code",
   "execution_count": 40,
   "metadata": {},
   "outputs": [],
   "source": [
    "def min(tableau:np.array(float)) -> float: \n",
    "    min = tableau[0]\n",
    "    indice_min = 0\n",
    "    for indice in range(1, len(tableau)):\n",
    "        if min > tableau[indice]:\n",
    "            min = tableau[indice]\n",
    "            indice_min = indice\n",
    "    return min, indice_min"
   ]
  },
  {
   "cell_type": "code",
   "execution_count": 41,
   "metadata": {},
   "outputs": [],
   "source": [
    "def classer(tableau, ordre=\"ascendant\"):\n",
    "    tab_classer = []\n",
    "    limite = min\n",
    "    if ordre == \"décroissant\":\n",
    "        limite = max\n",
    "    for nombre in tableau:\n",
    "        tab_classer.append(limite(tableau=tableau)[0])\n",
    "        tableau = np.delete(tableau, limite(tableau=tableau)[1])\n",
    "    return tab_classer    \n"
   ]
  },
  {
   "cell_type": "code",
   "execution_count": 42,
   "metadata": {},
   "outputs": [
    {
     "data": {
      "text/plain": [
       "(0.8309016019938084, 7)"
      ]
     },
     "execution_count": 42,
     "metadata": {},
     "output_type": "execute_result"
    }
   ],
   "source": [
    "tab = np.random.random(size=(9))\n",
    "max(tab)"
   ]
  },
  {
   "cell_type": "code",
   "execution_count": 43,
   "metadata": {},
   "outputs": [
    {
     "data": {
      "text/plain": [
       "[0.8309016019938084,\n",
       " 0.8087209897827545,\n",
       " 0.7852972533502866,\n",
       " 0.7119492906893464,\n",
       " 0.345495197179296,\n",
       " 0.336334538984996,\n",
       " 0.3052945919928709,\n",
       " 0.26853224910019613,\n",
       " 0.17655153115722022]"
      ]
     },
     "execution_count": 43,
     "metadata": {},
     "output_type": "execute_result"
    }
   ],
   "source": [
    "classer(tab, \"décroissant\")"
   ]
  },
  {
   "cell_type": "code",
   "execution_count": 44,
   "metadata": {},
   "outputs": [
    {
     "ename": "TypeError",
     "evalue": "RandomState.shuffle() takes exactly one argument (0 given)",
     "output_type": "error",
     "traceback": [
      "\u001b[1;31m---------------------------------------------------------------------------\u001b[0m",
      "\u001b[1;31mTypeError\u001b[0m                                 Traceback (most recent call last)",
      "\u001b[1;32mc:\\Users\\User\\Desktop\\Simplon datai\\simplon_datai_2025\\0\\Exo_classer.ipynb Cell 7\u001b[0m line \u001b[0;36m1\n\u001b[1;32m----> <a href='vscode-notebook-cell:/c%3A/Users/User/Desktop/Simplon%20datai/simplon_datai_2025/0/Exo_classer.ipynb#X15sZmlsZQ%3D%3D?line=0'>1</a>\u001b[0m np\u001b[39m.\u001b[39mrandom\u001b[39m.\u001b[39mshuffle()\n",
      "\u001b[1;31mTypeError\u001b[0m: RandomState.shuffle() takes exactly one argument (0 given)"
     ]
    }
   ],
   "source": [
    "\n",
    "np.random.shuffle()"
   ]
  },
  {
   "cell_type": "code",
   "execution_count": null,
   "metadata": {},
   "outputs": [],
   "source": [
    "tableau = np.array([[1, 2, 3],\n",
    "                   [4, 5, 6]])"
   ]
  },
  {
   "cell_type": "code",
   "execution_count": null,
   "metadata": {},
   "outputs": [
    {
     "data": {
      "text/plain": [
       "array([ 1,  2,  3,  4,  5,  6,  7,  8,  9, 10])"
      ]
     },
     "execution_count": 28,
     "metadata": {},
     "output_type": "execute_result"
    }
   ],
   "source": [
    "a = np.arange(1, 11)\n",
    "a"
   ]
  },
  {
   "cell_type": "code",
   "execution_count": null,
   "metadata": {},
   "outputs": [
    {
     "data": {
      "text/plain": [
       "array([1., 1., 1., 1., 1., 1., 1., 1., 1., 1.])"
      ]
     },
     "execution_count": 23,
     "metadata": {},
     "output_type": "execute_result"
    }
   ],
   "source": [
    "b = np.ones(10)\n",
    "b"
   ]
  },
  {
   "cell_type": "code",
   "execution_count": null,
   "metadata": {},
   "outputs": [
    {
     "data": {
      "text/plain": [
       "array([ 2.,  3.,  4.,  5.,  6.,  7.,  8.,  9., 10., 11.])"
      ]
     },
     "execution_count": 29,
     "metadata": {},
     "output_type": "execute_result"
    }
   ],
   "source": [
    "a + b "
   ]
  },
  {
   "cell_type": "code",
   "execution_count": null,
   "metadata": {},
   "outputs": [
    {
     "data": {
      "text/plain": [
       "array([[1., 0., 0., 0., 0.],\n",
       "       [0., 1., 0., 0., 0.],\n",
       "       [0., 0., 1., 0., 0.],\n",
       "       [0., 0., 0., 1., 0.],\n",
       "       [0., 0., 0., 0., 1.]])"
      ]
     },
     "execution_count": 31,
     "metadata": {},
     "output_type": "execute_result"
    }
   ],
   "source": [
    "np.eye(5,5)"
   ]
  },
  {
   "cell_type": "code",
   "execution_count": null,
   "metadata": {},
   "outputs": [
    {
     "data": {
      "text/plain": [
       "array([[2, 8, 8, 7],\n",
       "       [5, 6, 3, 7],\n",
       "       [5, 9, 2, 8],\n",
       "       [5, 8, 7, 2],\n",
       "       [9, 8, 7, 3]])"
      ]
     },
     "execution_count": 33,
     "metadata": {},
     "output_type": "execute_result"
    }
   ],
   "source": [
    "A = np.random.randint(1, 11,size=(5,4))\n",
    "A"
   ]
  },
  {
   "cell_type": "code",
   "execution_count": 47,
   "metadata": {},
   "outputs": [
    {
     "data": {
      "text/plain": [
       "array([[ 1.39523058,  5.36755396,  5.52827773,  5.95923361],\n",
       "       [ 2.34937302,  5.92214671,  0.2328472 ,  3.12783232],\n",
       "       [-0.18682926,  4.59928691,  5.48695193,  1.3025018 ],\n",
       "       [ 1.50437151,  0.69336992,  3.47700056,  6.2417156 ]])"
      ]
     },
     "execution_count": 47,
     "metadata": {},
     "output_type": "execute_result"
    }
   ],
   "source": [
    "A = np.random.randn(4, 4) * 3 + 2\n",
    "A"
   ]
  },
  {
   "cell_type": "code",
   "execution_count": 48,
   "metadata": {},
   "outputs": [
    {
     "data": {
      "text/plain": [
       "array([[-2.8450565 ,  1.07468329,  1.66043594,  1.83126036],\n",
       "       [ 0.58503642, -0.07786623, -0.29606416, -0.45775749],\n",
       "       [-0.84655726,  0.1858741 ,  0.66164002,  0.5770308 ],\n",
       "       [ 1.09230471, -0.35391186, -0.73587993, -0.55174527]])"
      ]
     },
     "execution_count": 48,
     "metadata": {},
     "output_type": "execute_result"
    }
   ],
   "source": [
    "Pinv = np.linalg.inv(A)\n",
    "Pinv"
   ]
  },
  {
   "cell_type": "code",
   "execution_count": 49,
   "metadata": {},
   "outputs": [
    {
     "data": {
      "text/plain": [
       "array([[ 1.00000000e+00, -1.40586475e-15,  1.63888651e-15,\n",
       "        -2.45336823e-16],\n",
       "       [ 1.78593331e-16,  1.00000000e+00, -7.16819159e-16,\n",
       "        -1.36049906e-16],\n",
       "       [-2.46320493e-16, -5.95965012e-16,  1.00000000e+00,\n",
       "        -1.76309535e-16],\n",
       "       [ 5.82386915e-16,  1.22510400e-15,  3.41080795e-16,\n",
       "         1.00000000e+00]])"
      ]
     },
     "execution_count": 49,
     "metadata": {},
     "output_type": "execute_result"
    }
   ],
   "source": [
    "Id = np.dot(Pinv, A)\n",
    "Id"
   ]
  },
  {
   "cell_type": "code",
   "execution_count": null,
   "metadata": {},
   "outputs": [],
   "source": []
  }
 ],
 "metadata": {
  "kernelspec": {
   "display_name": "Python 3",
   "language": "python",
   "name": "python3"
  },
  "language_info": {
   "codemirror_mode": {
    "name": "ipython",
    "version": 3
   },
   "file_extension": ".py",
   "mimetype": "text/x-python",
   "name": "python",
   "nbconvert_exporter": "python",
   "pygments_lexer": "ipython3",
   "version": "3.11.4"
  },
  "orig_nbformat": 4
 },
 "nbformat": 4,
 "nbformat_minor": 2
}
