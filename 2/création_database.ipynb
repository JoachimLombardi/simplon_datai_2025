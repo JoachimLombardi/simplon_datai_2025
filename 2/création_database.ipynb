{
 "cells": [
  {
   "cell_type": "code",
   "execution_count": 3,
   "metadata": {},
   "outputs": [
    {
     "name": "stdout",
     "output_type": "stream",
     "text": [
      "Requirement already satisfied: mysql-connector-python in c:\\users\\user\\anaconda3\\lib\\site-packages (8.1.0)\n",
      "Requirement already satisfied: protobuf<=4.21.12,>=4.21.1 in c:\\users\\user\\anaconda3\\lib\\site-packages (from mysql-connector-python) (4.21.12)\n",
      "Note: you may need to restart the kernel to use updated packages.\n"
     ]
    }
   ],
   "source": [
    "pip install mysql-connector-python\n"
   ]
  },
  {
   "cell_type": "code",
   "execution_count": 4,
   "metadata": {},
   "outputs": [
    {
     "name": "stdout",
     "output_type": "stream",
     "text": [
      "La base de données 'courses' a été créée avec succès.\n"
     ]
    }
   ],
   "source": [
    "import mysql.connector\n",
    "\n",
    "# Remplacez les valeurs suivantes par les informations de connexion à votre serveur MySQL\n",
    "host = \"localhost\" # L'hôte du serveur MySQL\n",
    "user = \"root\"  # Votre nom d'utilisateur MySQL\n",
    "password = \"root\"  # Votre mot de passe MySQL\n",
    "database_name = \"courses\"  # Le nom de la nouvelle base de données\n",
    "\n",
    "# Créez une connexion au serveur MySQL\n",
    "conn = mysql.connector.connect(\n",
    "    host=host,\n",
    "    user=user,\n",
    "    password=password\n",
    ")\n",
    "\n",
    "# Créez un curseur pour exécuter des requêtes SQL\n",
    "cursor = conn.cursor()\n",
    "\n",
    "# Utilisez le curseur pour exécuter une commande SQL de création de base de données\n",
    "create_database_query = f\"CREATE DATABASE {database_name}\"\n",
    "cursor.execute(create_database_query)\n",
    "\n",
    "# Fermez le curseur et la connexion\n",
    "cursor.close()\n",
    "conn.close()\n",
    "\n",
    "print(f\"La base de données '{database_name}' a été créée avec succès.\")\n"
   ]
  },
  {
   "cell_type": "code",
   "execution_count": 5,
   "metadata": {},
   "outputs": [
    {
     "name": "stdout",
     "output_type": "stream",
     "text": [
      "La table 'exemple' a été créée avec succès.\n"
     ]
    }
   ],
   "source": [
    "# Créez une connexion à la base de données\n",
    "conn = mysql.connector.connect(\n",
    "    host=host,\n",
    "    user=user,\n",
    "    password=password,\n",
    "    database=database_name\n",
    ")\n",
    "\n",
    "# Créez un curseur pour exécuter des requêtes SQL\n",
    "cursor = conn.cursor()\n",
    "\n",
    "# Définissez la commande SQL pour créer une table\n",
    "create_table_produit = \"\"\"\n",
    "CREATE TABLE produit (\n",
    "    id INT AUTO_INCREMENT PRIMARY KEY,\n",
    "    code_article INT,\n",
    "    libelle_article VARCHAR(255),\n",
    "    famille_article_id INT,\n",
    "    condition_id INT,\n",
    "    pu_ht FLOAT\n",
    ")\n",
    "\"\"\"\n",
    "\n",
    "# Exécutez la commande SQL pour créer la table\n",
    "cursor.execute(create_table_produit)\n",
    "\n",
    "# Définissez la commande SQL pour créer une table\n",
    "create_table_famille_article = \"\"\"\n",
    "CREATE TABLE famille_article (\n",
    "    id INT AUTO_INCREMENT PRIMARY KEY,\n",
    "    famille_produit VARCHAR(255)\n",
    ")\n",
    "\"\"\"\n",
    "\n",
    "# Exécutez la commande SQL pour créer la table\n",
    "cursor.execute(create_table_famille_article)\n",
    "\n",
    "# Définissez la commande SQL pour créer une table\n",
    "create_table_condition = \"\"\"\n",
    "CREATE TABLE conditions (\n",
    "    id INT AUTO_INCREMENT PRIMARY KEY,\n",
    "    contenant_produit VARCHAR(255)\n",
    ")\n",
    "\"\"\"\n",
    "\n",
    "# Exécutez la commande SQL pour créer la table\n",
    "cursor.execute(create_table_condition)\n",
    "\n",
    "\n",
    "# Validez la création de la table\n",
    "conn.commit()\n",
    "\n",
    "# Fermez le curseur et la connexion\n",
    "cursor.close()\n",
    "conn.close()\n",
    "\n",
    "print(\"La table 'exemple' a été créée avec succès.\")\n"
   ]
  },
  {
   "cell_type": "code",
   "execution_count": 7,
   "metadata": {},
   "outputs": [],
   "source": [
    "import csv"
   ]
  },
  {
   "cell_type": "code",
   "execution_count": 19,
   "metadata": {},
   "outputs": [
    {
     "ename": "TypeError",
     "evalue": "tuple expected at most 1 argument, got 5",
     "output_type": "error",
     "traceback": [
      "\u001b[1;31m---------------------------------------------------------------------------\u001b[0m",
      "\u001b[1;31mTypeError\u001b[0m                                 Traceback (most recent call last)",
      "\u001b[1;32mc:\\Users\\User\\Desktop\\Simplon datai\\simplon_datai_2025\\2\\création_database.ipynb Cell 5\u001b[0m line \u001b[0;36m5\n\u001b[0;32m     <a href='vscode-notebook-cell:/c%3A/Users/User/Desktop/Simplon%20datai/simplon_datai_2025/2/cr%C3%A9ation_database.ipynb#W4sZmlsZQ%3D%3D?line=45'>46</a>\u001b[0m         insert_produit \u001b[39m=\u001b[39m \u001b[39m\"\u001b[39m\u001b[39mINSERT INTO produit (code_article, libelle_article, famille_article_id, condition_id, pu_ht) VALUES (\u001b[39m\u001b[39m%s\u001b[39;00m\u001b[39m, \u001b[39m\u001b[39m%s\u001b[39;00m\u001b[39m, \u001b[39m\u001b[39m%s\u001b[39;00m\u001b[39m, \u001b[39m\u001b[39m%s\u001b[39;00m\u001b[39m, \u001b[39m\u001b[39m%s\u001b[39;00m\u001b[39m)\u001b[39m\u001b[39m\"\u001b[39m\n\u001b[0;32m     <a href='vscode-notebook-cell:/c%3A/Users/User/Desktop/Simplon%20datai/simplon_datai_2025/2/cr%C3%A9ation_database.ipynb#W4sZmlsZQ%3D%3D?line=46'>47</a>\u001b[0m         \u001b[39m# Remplacez \"nom_de_la_table\" et les colonnes par les valeurs appropriées\u001b[39;00m\n\u001b[0;32m     <a href='vscode-notebook-cell:/c%3A/Users/User/Desktop/Simplon%20datai/simplon_datai_2025/2/cr%C3%A9ation_database.ipynb#W4sZmlsZQ%3D%3D?line=47'>48</a>\u001b[0m \n\u001b[0;32m     <a href='vscode-notebook-cell:/c%3A/Users/User/Desktop/Simplon%20datai/simplon_datai_2025/2/cr%C3%A9ation_database.ipynb#W4sZmlsZQ%3D%3D?line=48'>49</a>\u001b[0m         \u001b[39m# Exécution de la requête d'insertion\u001b[39;00m\n\u001b[1;32m---> <a href='vscode-notebook-cell:/c%3A/Users/User/Desktop/Simplon%20datai/simplon_datai_2025/2/cr%C3%A9ation_database.ipynb#W4sZmlsZQ%3D%3D?line=49'>50</a>\u001b[0m         cursor\u001b[39m.\u001b[39mexecute(insert_conditions, \u001b[39mtuple\u001b[39m(row[\u001b[39m0\u001b[39m],row[\u001b[39m1\u001b[39m],famille_article_id,conditions_id,row[\u001b[39m4\u001b[39m]))\n\u001b[0;32m     <a href='vscode-notebook-cell:/c%3A/Users/User/Desktop/Simplon%20datai/simplon_datai_2025/2/cr%C3%A9ation_database.ipynb#W4sZmlsZQ%3D%3D?line=52'>53</a>\u001b[0m \u001b[39m# Valider les modifications dans la base de données\u001b[39;00m\n\u001b[0;32m     <a href='vscode-notebook-cell:/c%3A/Users/User/Desktop/Simplon%20datai/simplon_datai_2025/2/cr%C3%A9ation_database.ipynb#W4sZmlsZQ%3D%3D?line=53'>54</a>\u001b[0m conn\u001b[39m.\u001b[39mcommit()\n",
      "\u001b[1;31mTypeError\u001b[0m: tuple expected at most 1 argument, got 5"
     ]
    }
   ],
   "source": [
    "# Chemin vers le fichier CSV\n",
    "csv_file_path = \"Produits - Feuille 1.csv\"\n",
    "\n",
    "# Établir une connexion à la base de données\n",
    "conn = mysql.connector.connect(\n",
    "    host=host,\n",
    "    user=user,\n",
    "    password=password,\n",
    "    database=database_name\n",
    ")\n",
    "\n",
    "# Créer un curseur pour exécuter des requêtes SQL\n",
    "cursor = conn.cursor()\n",
    "\n",
    "# Lecture du fichier CSV et insertion des données dans la table\n",
    "with open(csv_file_path, \"r\", newline=\"\") as csv_file:\n",
    "    csv_reader = csv.reader(csv_file)\n",
    "    next(csv_reader)  # Ignorer la première ligne si elle contient les en-têtes\n",
    "\n",
    "    for row in csv_reader:\n",
    "        # Insérer les données dans la table MySQL\n",
    "        insert_conditions = \"INSERT IGNORE INTO conditions (contenant_produit) VALUES (%s)\"\n",
    "        # Remplacez \"nom_de_la_table\" et les colonnes par les valeurs appropriées\n",
    "\n",
    "        # Exécution de la requête d'insertion\n",
    "        cursor.execute(insert_conditions, (row[3],))\n",
    "    \n",
    "         # Insérer les données dans la table MySQL\n",
    "        insert_famille_article = \"INSERT IGNORE INTO famille_article (famille_produit) VALUES (%s)\"\n",
    "        # Remplacez \"nom_de_la_table\" et les colonnes par les valeurs appropriées\n",
    "\n",
    "        # Exécution de la requête d'insertion\n",
    "        cursor.execute(insert_conditions, (row[2],))\n",
    "\n",
    "        select_id_condition = f\"SELECT id FROM conditions WHERE contenant_produit = %s\"\n",
    "\n",
    "        cursor.execute(select_id_condition, (row[3],))\n",
    "    \n",
    "        conditions_id = cursor.fetchone()[0]\n",
    "    \n",
    "        select_id_famille_article = f\"SELECT id FROM famille_article WHERE famille_produit = %s\"\n",
    "\n",
    "        famille_article_id = cursor.execute(select_id_famille_article, (row[2],))\n",
    "    \n",
    "         # Insérer les données dans la table MySQL\n",
    "        insert_produit = \"INSERT INTO produit (code_article, libelle_article, famille_article_id, condition_id, pu_ht) VALUES (%s, %s, %s, %s, %s)\"\n",
    "        # Remplacez \"nom_de_la_table\" et les colonnes par les valeurs appropriées\n",
    "\n",
    "        # Exécution de la requête d'insertion\n",
    "        cursor.execute(insert_conditions, tuple(row[0],row[1],famille_article_id,conditions_id,row[4]))\n",
    "\n",
    "\n",
    "# Valider les modifications dans la base de données\n",
    "conn.commit()\n",
    "\n",
    "# Fermer le curseur et la connexion\n",
    "cursor.close()\n",
    "conn.close()\n",
    "\n",
    "print(\"Les données du fichier CSV ont été insérées avec succès dans la base de données.\")\n"
   ]
  },
  {
   "cell_type": "code",
   "execution_count": null,
   "metadata": {},
   "outputs": [
    {
     "data": {
      "text/plain": [
       "'c:\\\\Users\\\\User\\\\Desktop\\\\Simplon datai\\\\simplon_datai_2025\\\\2'"
      ]
     },
     "execution_count": 1,
     "metadata": {},
     "output_type": "execute_result"
    }
   ],
   "source": []
  },
  {
   "cell_type": "code",
   "execution_count": null,
   "metadata": {},
   "outputs": [],
   "source": []
  }
 ],
 "metadata": {
  "kernelspec": {
   "display_name": "base",
   "language": "python",
   "name": "python3"
  },
  "language_info": {
   "codemirror_mode": {
    "name": "ipython",
    "version": 3
   },
   "file_extension": ".py",
   "mimetype": "text/x-python",
   "name": "python",
   "nbconvert_exporter": "python",
   "pygments_lexer": "ipython3",
   "version": "3.11.4"
  },
  "orig_nbformat": 4
 },
 "nbformat": 4,
 "nbformat_minor": 2
}
