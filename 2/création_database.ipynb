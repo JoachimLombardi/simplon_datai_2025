{
 "cells": [
  {
   "cell_type": "code",
   "execution_count": 6,
   "metadata": {},
   "outputs": [
    {
     "name": "stdout",
     "output_type": "stream",
     "text": [
      "Requirement already satisfied: mysql-connector-python in c:\\users\\user\\appdata\\local\\programs\\python\\python311\\lib\\site-packages (8.1.0)\n",
      "Requirement already satisfied: protobuf<=4.21.12,>=4.21.1 in c:\\users\\user\\appdata\\local\\programs\\python\\python311\\lib\\site-packages (from mysql-connector-python) (4.21.12)\n",
      "Note: you may need to restart the kernel to use updated packages.\n"
     ]
    }
   ],
   "source": [
    "pip install mysql-connector-python\n"
   ]
  },
  {
   "cell_type": "code",
   "execution_count": 7,
   "metadata": {},
   "outputs": [
    {
     "name": "stdout",
     "output_type": "stream",
     "text": [
      "La base de données 'courses' existe.\n"
     ]
    }
   ],
   "source": [
    "import mysql.connector\n",
    "\n",
    "# Remplacez les valeurs suivantes par les informations de connexion à votre serveur MySQL\n",
    "host = \"localhost\" # L'hôte du serveur MySQL\n",
    "user = \"root\"  # Votre nom d'utilisateur MySQL\n",
    "password = \"jojo\"  # Votre mot de passe MySQL\n",
    "database_name = \"courses\"  # Le nom de la nouvelle base de données\n",
    "\n",
    "\n",
    "\n",
    "# Créez une connexion au serveur MySQL\n",
    "conn = mysql.connector.connect(\n",
    "    host=host,\n",
    "    user=user,\n",
    "    password=password\n",
    ")\n",
    "\n",
    "# Créez un curseur pour exécuter des requêtes SQL\n",
    "cursor = conn.cursor()\n",
    "\n",
    "# Exécutez une requête SQL pour obtenir la liste des bases de données\n",
    "cursor.execute(\"SHOW DATABASES\")\n",
    "\n",
    "# Récupérez les résultats de la requête\n",
    "databases = cursor.fetchall()\n",
    "\n",
    "# Vérifiez si la base de données que vous recherchez existe\n",
    "if (database_name,) in databases:\n",
    "    print(f\"La base de données '{database_name}' existe.\")\n",
    "else:\n",
    "    print(f\"La base de données '{database_name}' n'existe pas.\")\n",
    "     # Utilisez le curseur pour exécuter une commande SQL de création de base de données\n",
    "    create_database_query = f\"CREATE DATABASE {database_name}\"\n",
    "    cursor.execute(create_database_query)\n",
    "    print(f\"La base de données '{database_name}' a été créée avec succès.\")\n",
    "\n",
    "# Fermez le curseur et la connexion\n",
    "cursor.close()\n",
    "conn.close()"
   ]
  },
  {
   "cell_type": "code",
   "execution_count": 8,
   "metadata": {},
   "outputs": [
    {
     "name": "stdout",
     "output_type": "stream",
     "text": [
      "La table 'produit' existe.\n",
      "La table 'famille_article' existe.\n",
      "La table 'conditions' existe.\n"
     ]
    }
   ],
   "source": [
    "# Créez une connexion à la base de données\n",
    "conn = mysql.connector.connect(\n",
    "    host=host,\n",
    "    user=user,\n",
    "    password=password,\n",
    "    database=database_name\n",
    ")\n",
    "\n",
    "# Créez un curseur pour exécuter des requêtes SQL\n",
    "cursor = conn.cursor()\n",
    "\n",
    "# Exécutez une requête SQL pour obtenir la liste des bases de données\n",
    "cursor.execute(\"SHOW TABLES\")\n",
    "\n",
    "# Récupérez les résultats de la requête\n",
    "tables = cursor.fetchall()\n",
    "\n",
    "# Vérifiez si la base de données que vous recherchez existe\n",
    "if (\"produit\",) in tables:\n",
    "    print(f\"La table 'produit' existe.\")\n",
    "else:\n",
    "    print(f\"La table 'produit' n'existe pas.\")\n",
    "    # Définissez la commande SQL pour créer une table\n",
    "    create_table_produit = \"\"\"\n",
    "    CREATE TABLE produit (\n",
    "        id INT AUTO_INCREMENT PRIMARY KEY,\n",
    "        code_article INT,\n",
    "        libelle_article VARCHAR(255),\n",
    "        famille_article_id INT,\n",
    "        condition_id INT,\n",
    "        pu_ht VARCHAR(255)\n",
    "    )\n",
    "    \"\"\"\n",
    "    # Exécutez la commande SQL pour créer la table\n",
    "    cursor.execute(create_table_produit)\n",
    "\n",
    "    print(f\"La table 'produit' a été créée avec succès.\")\n",
    "\n",
    "if (\"famille_article\",) in tables:\n",
    "    print(f\"La table 'famille_article' existe.\")\n",
    "else:\n",
    "    print(f\"La table 'famille_article' n'existe pas.\")\n",
    "    # Définissez la commande SQL pour créer une table\n",
    "    create_table_famille_article = \"\"\"\n",
    "    CREATE TABLE famille_article (\n",
    "        id INT AUTO_INCREMENT PRIMARY KEY,\n",
    "        famille_produit VARCHAR(255)\n",
    "    )\n",
    "    \"\"\"\n",
    "    # Exécutez la commande SQL pour créer la table\n",
    "    cursor.execute(create_table_famille_article)\n",
    "\n",
    "    print(f\"La table 'famille_article' a été créée avec succès.\")\n",
    "\n",
    "if (\"conditions\",) in tables:\n",
    "    print(f\"La table 'conditions' existe.\")\n",
    "else:\n",
    "    print(f\"La table 'conditions' n'existe pas.\")\n",
    "    # Définissez la commande SQL pour créer une table\n",
    "    create_table_condition = \"\"\"\n",
    "    CREATE TABLE conditions (\n",
    "        id INT AUTO_INCREMENT PRIMARY KEY,\n",
    "        contenant_produit VARCHAR(255)\n",
    "    )\n",
    "    \"\"\"\n",
    "    # Exécutez la commande SQL pour créer la table\n",
    "    cursor.execute(create_table_condition)\n",
    "\n",
    "    print(f\"La table 'conditions' a été créée avec succès.\")\n",
    "\n",
    "    # Validez la création de la table\n",
    "    conn.commit()\n",
    "\n",
    "# Fermez le curseur et la connexion\n",
    "cursor.close()\n",
    "conn.close()"
   ]
  },
  {
   "cell_type": "code",
   "execution_count": 9,
   "metadata": {},
   "outputs": [],
   "source": [
    "import csv"
   ]
  },
  {
   "cell_type": "code",
   "execution_count": 10,
   "metadata": {},
   "outputs": [
    {
     "name": "stdout",
     "output_type": "stream",
     "text": [
      "3\n",
      "3\n",
      "3\n"
     ]
    },
    {
     "ename": "InternalError",
     "evalue": "Unread result found",
     "output_type": "error",
     "traceback": [
      "\u001b[1;31m---------------------------------------------------------------------------\u001b[0m",
      "\u001b[1;31mInternalError\u001b[0m                             Traceback (most recent call last)",
      "\u001b[1;32mc:\\Users\\User\\Desktop\\Git\\Simplon\\simplon_datai_2025\\2\\création_database.ipynb Cellule 5\u001b[0m line \u001b[0;36m4\n\u001b[0;32m     <a href='vscode-notebook-cell:/c%3A/Users/User/Desktop/Git/Simplon/simplon_datai_2025/2/cr%C3%A9ation_database.ipynb#W4sZmlsZQ%3D%3D?line=41'>42</a>\u001b[0m \u001b[39mprint\u001b[39m(conditions_id)\n\u001b[0;32m     <a href='vscode-notebook-cell:/c%3A/Users/User/Desktop/Git/Simplon/simplon_datai_2025/2/cr%C3%A9ation_database.ipynb#W4sZmlsZQ%3D%3D?line=43'>44</a>\u001b[0m select_id_famille_article \u001b[39m=\u001b[39m \u001b[39mf\u001b[39m\u001b[39m\"\u001b[39m\u001b[39mSELECT id FROM famille_article WHERE famille_produit = %s\u001b[39m\u001b[39m\"\u001b[39m\n\u001b[1;32m---> <a href='vscode-notebook-cell:/c%3A/Users/User/Desktop/Git/Simplon/simplon_datai_2025/2/cr%C3%A9ation_database.ipynb#W4sZmlsZQ%3D%3D?line=45'>46</a>\u001b[0m cursor\u001b[39m.\u001b[39;49mexecute(select_id_famille_article, (row[\u001b[39m2\u001b[39;49m],))\n\u001b[0;32m     <a href='vscode-notebook-cell:/c%3A/Users/User/Desktop/Git/Simplon/simplon_datai_2025/2/cr%C3%A9ation_database.ipynb#W4sZmlsZQ%3D%3D?line=47'>48</a>\u001b[0m famille_article_id \u001b[39m=\u001b[39m cursor\u001b[39m.\u001b[39mfetchone()[\u001b[39m0\u001b[39m]\n\u001b[0;32m     <a href='vscode-notebook-cell:/c%3A/Users/User/Desktop/Git/Simplon/simplon_datai_2025/2/cr%C3%A9ation_database.ipynb#W4sZmlsZQ%3D%3D?line=49'>50</a>\u001b[0m \u001b[39mprint\u001b[39m(famille_article_id)\n",
      "File \u001b[1;32mc:\\Users\\User\\AppData\\Local\\Programs\\Python\\Python311\\Lib\\site-packages\\mysql\\connector\\cursor_cext.py:303\u001b[0m, in \u001b[0;36mCMySQLCursor.execute\u001b[1;34m(self, operation, params, multi)\u001b[0m\n\u001b[0;32m    301\u001b[0m \u001b[39mexcept\u001b[39;00m (ProgrammingError, \u001b[39mReferenceError\u001b[39;00m) \u001b[39mas\u001b[39;00m err:\n\u001b[0;32m    302\u001b[0m     \u001b[39mraise\u001b[39;00m ProgrammingError(\u001b[39m\"\u001b[39m\u001b[39mCursor is not connected\u001b[39m\u001b[39m\"\u001b[39m, \u001b[39m2055\u001b[39m) \u001b[39mfrom\u001b[39;00m \u001b[39merr\u001b[39;00m\n\u001b[1;32m--> 303\u001b[0m \u001b[39mself\u001b[39;49m\u001b[39m.\u001b[39;49m_cnx\u001b[39m.\u001b[39;49mhandle_unread_result()\n\u001b[0;32m    305\u001b[0m stmt \u001b[39m=\u001b[39m \u001b[39m\"\u001b[39m\u001b[39m\"\u001b[39m\n\u001b[0;32m    306\u001b[0m \u001b[39mself\u001b[39m\u001b[39m.\u001b[39mreset()\n",
      "File \u001b[1;32mc:\\Users\\User\\AppData\\Local\\Programs\\Python\\Python311\\Lib\\site-packages\\mysql\\connector\\connection_cext.py:955\u001b[0m, in \u001b[0;36mCMySQLConnection.handle_unread_result\u001b[1;34m(self, prepared)\u001b[0m\n\u001b[0;32m    953\u001b[0m     \u001b[39mself\u001b[39m\u001b[39m.\u001b[39mconsume_results()\n\u001b[0;32m    954\u001b[0m \u001b[39melif\u001b[39;00m unread_result:\n\u001b[1;32m--> 955\u001b[0m     \u001b[39mraise\u001b[39;00m InternalError(\u001b[39m\"\u001b[39m\u001b[39mUnread result found\u001b[39m\u001b[39m\"\u001b[39m)\n",
      "\u001b[1;31mInternalError\u001b[0m: Unread result found"
     ]
    }
   ],
   "source": [
    "# Chemin vers le fichier CSV\n",
    "csv_file_path = \"Produits - Feuille 1.csv\"\n",
    "\n",
    "# Établir une connexion à la base de données\n",
    "conn = mysql.connector.connect(\n",
    "    host=host,\n",
    "    user=user,\n",
    "    password=password,\n",
    "    database=database_name\n",
    ")\n",
    "\n",
    "# Créer un curseur pour exécuter des requêtes SQL\n",
    "cursor = conn.cursor()\n",
    "\n",
    "# Lecture du fichier CSV et insertion des données dans la table\n",
    "with open(csv_file_path, \"r\", newline=\"\") as csv_file:\n",
    "    csv_reader = csv.reader(csv_file)\n",
    "    next(csv_reader)  # Ignorer la première ligne si elle contient les en-têtes\n",
    "\n",
    "    for row in csv_reader:\n",
    "\n",
    "        # Insérer les données dans la table MySQL\n",
    "        insert_conditions = \"INSERT IGNORE INTO conditions (contenant_produit) VALUES (%s)\"\n",
    "        # Remplacez \"nom_de_la_table\" et les colonnes par les valeurs appropriées\n",
    "\n",
    "        # Exécution de la requête d'insertion\n",
    "        cursor.execute(insert_conditions, (row[3],))\n",
    "    \n",
    "         # Insérer les données dans la table MySQL\n",
    "        insert_famille_article = \"INSERT IGNORE INTO famille_article (famille_produit) VALUES (%s)\"\n",
    "        # Remplacez \"nom_de_la_table\" et les colonnes par les valeurs appropriées\n",
    "\n",
    "        # Exécution de la requête d'insertion\n",
    "        cursor.execute(insert_famille_article, (row[2],))\n",
    "\n",
    "        select_id_condition = f\"SELECT id FROM conditions WHERE contenant_produit = %s\"\n",
    "\n",
    "        cursor.execute(select_id_condition, (row[3],))\n",
    "    \n",
    "        conditions_id = cursor.fetchone()[0]\n",
    "\n",
    "        print(conditions_id)\n",
    "    \n",
    "        select_id_famille_article = f\"SELECT id FROM famille_article WHERE famille_produit = %s\"\n",
    "\n",
    "        cursor.execute(select_id_famille_article, (row[2],))\n",
    "\n",
    "        famille_article_id = cursor.fetchone()[0]\n",
    "        \n",
    "        print(famille_article_id)\n",
    "    \n",
    "         # Insérer les données dans la table MySQL\n",
    "        insert_produit = \"INSERT INTO produit (code_article, libelle_article, famille_article_id, condition_id, pu_ht) VALUES (%s, %s, %s, %s, %s)\"\n",
    "        # Remplacez \"nom_de_la_table\" et les colonnes par les valeurs appropriées\n",
    "\n",
    "        # Exécution de la requête d'insertion\n",
    "        cursor.execute(insert_produit, (row[0],row[1],famille_article_id,conditions_id,row[4]))\n",
    "\n",
    "# Valider les modifications dans la base de données\n",
    "conn.commit()\n",
    "\n",
    "# Fermer le curseur et la connexion\n",
    "cursor.close()\n",
    "conn.close()\n",
    "\n",
    "print(\"Les données du fichier CSV ont été insérées avec succès dans la base de données.\")\n"
   ]
  },
  {
   "cell_type": "code",
   "execution_count": null,
   "metadata": {},
   "outputs": [
    {
     "data": {
      "text/plain": [
       "'c:\\\\Users\\\\User\\\\Desktop\\\\Simplon datai\\\\simplon_datai_2025\\\\2'"
      ]
     },
     "execution_count": 1,
     "metadata": {},
     "output_type": "execute_result"
    }
   ],
   "source": []
  },
  {
   "cell_type": "code",
   "execution_count": null,
   "metadata": {},
   "outputs": [],
   "source": []
  }
 ],
 "metadata": {
  "kernelspec": {
   "display_name": "base",
   "language": "python",
   "name": "python3"
  },
  "language_info": {
   "codemirror_mode": {
    "name": "ipython",
    "version": 3
   },
   "file_extension": ".py",
   "mimetype": "text/x-python",
   "name": "python",
   "nbconvert_exporter": "python",
   "pygments_lexer": "ipython3",
   "version": "3.11.4"
  },
  "orig_nbformat": 4
 },
 "nbformat": 4,
 "nbformat_minor": 2
}
