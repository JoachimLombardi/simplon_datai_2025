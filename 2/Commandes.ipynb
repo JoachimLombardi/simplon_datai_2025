{
 "cells": [
  {
   "cell_type": "code",
   "execution_count": 1,
   "metadata": {},
   "outputs": [],
   "source": [
    "import pandas as pd"
   ]
  },
  {
   "cell_type": "code",
   "execution_count": 3,
   "metadata": {},
   "outputs": [
    {
     "data": {
      "text/html": [
       "<div>\n",
       "<style scoped>\n",
       "    .dataframe tbody tr th:only-of-type {\n",
       "        vertical-align: middle;\n",
       "    }\n",
       "\n",
       "    .dataframe tbody tr th {\n",
       "        vertical-align: top;\n",
       "    }\n",
       "\n",
       "    .dataframe thead th {\n",
       "        text-align: right;\n",
       "    }\n",
       "</style>\n",
       "<table border=\"1\" class=\"dataframe\">\n",
       "  <thead>\n",
       "    <tr style=\"text-align: right;\">\n",
       "      <th></th>\n",
       "      <th>ID</th>\n",
       "      <th>ID_Client</th>\n",
       "      <th>Nom_Client</th>\n",
       "      <th>Prenom_Client</th>\n",
       "      <th>Adresse_Client</th>\n",
       "      <th>Ville_Client</th>\n",
       "      <th>Pays_Client</th>\n",
       "      <th>Email_Client</th>\n",
       "      <th>ID_Commande</th>\n",
       "      <th>Date_Commande</th>\n",
       "      <th>Montant_Commande</th>\n",
       "      <th>ID_Produit</th>\n",
       "      <th>Nom_Produit</th>\n",
       "      <th>Categorie_Produit</th>\n",
       "      <th>Adresse_Magasin</th>\n",
       "      <th>Ville_Magasin</th>\n",
       "      <th>Pays_Magasin</th>\n",
       "    </tr>\n",
       "  </thead>\n",
       "  <tbody>\n",
       "    <tr>\n",
       "      <th>0</th>\n",
       "      <td>1</td>\n",
       "      <td>1</td>\n",
       "      <td>Dupont</td>\n",
       "      <td>Jean</td>\n",
       "      <td>123 Rue de la Paix</td>\n",
       "      <td>Paris</td>\n",
       "      <td>France</td>\n",
       "      <td>jean.dupont@email.com</td>\n",
       "      <td>101</td>\n",
       "      <td>2023-01-15</td>\n",
       "      <td>250.0</td>\n",
       "      <td>501</td>\n",
       "      <td>Produit_A</td>\n",
       "      <td>Electronique</td>\n",
       "      <td>456 Rue des Magasins</td>\n",
       "      <td>Paris</td>\n",
       "      <td>France</td>\n",
       "    </tr>\n",
       "    <tr>\n",
       "      <th>1</th>\n",
       "      <td>2</td>\n",
       "      <td>2</td>\n",
       "      <td>Martin</td>\n",
       "      <td>Marie</td>\n",
       "      <td>456 Avenue des Roses</td>\n",
       "      <td>Lyon</td>\n",
       "      <td>France</td>\n",
       "      <td>marie.martin@email.com</td>\n",
       "      <td>102</td>\n",
       "      <td>2023-02-20</td>\n",
       "      <td>150.0</td>\n",
       "      <td>502</td>\n",
       "      <td>Produit_B</td>\n",
       "      <td>Mode</td>\n",
       "      <td>789 Rue des Boutiques</td>\n",
       "      <td>Lyon</td>\n",
       "      <td>France</td>\n",
       "    </tr>\n",
       "    <tr>\n",
       "      <th>2</th>\n",
       "      <td>3</td>\n",
       "      <td>1</td>\n",
       "      <td>Dupont</td>\n",
       "      <td>Jean</td>\n",
       "      <td>123 Rue de la Paix</td>\n",
       "      <td>Paris</td>\n",
       "      <td>France</td>\n",
       "      <td>jean.dupont@email.com</td>\n",
       "      <td>103</td>\n",
       "      <td>2023-03-10</td>\n",
       "      <td>300.0</td>\n",
       "      <td>501</td>\n",
       "      <td>Produit_A</td>\n",
       "      <td>Electronique</td>\n",
       "      <td>123 Magasin Central</td>\n",
       "      <td>Paris</td>\n",
       "      <td>France</td>\n",
       "    </tr>\n",
       "    <tr>\n",
       "      <th>3</th>\n",
       "      <td>4</td>\n",
       "      <td>3</td>\n",
       "      <td>Leclerc</td>\n",
       "      <td>Pierre</td>\n",
       "      <td>789 Boulevard du Commerce</td>\n",
       "      <td>Marseille</td>\n",
       "      <td>France</td>\n",
       "      <td>pierre.leclerc@email.com</td>\n",
       "      <td>104</td>\n",
       "      <td>2023-04-05</td>\n",
       "      <td>50.0</td>\n",
       "      <td>503</td>\n",
       "      <td>Produit_C</td>\n",
       "      <td>Maison</td>\n",
       "      <td>456 Magasin Super</td>\n",
       "      <td>Marseille</td>\n",
       "      <td>France</td>\n",
       "    </tr>\n",
       "    <tr>\n",
       "      <th>4</th>\n",
       "      <td>5</td>\n",
       "      <td>2</td>\n",
       "      <td>Martin</td>\n",
       "      <td>Marie</td>\n",
       "      <td>456 Avenue des Roses</td>\n",
       "      <td>Lyon</td>\n",
       "      <td>France</td>\n",
       "      <td>marie.martin@email.com</td>\n",
       "      <td>105</td>\n",
       "      <td>2023-05-12</td>\n",
       "      <td>200.0</td>\n",
       "      <td>504</td>\n",
       "      <td>Produit_D</td>\n",
       "      <td>Mode</td>\n",
       "      <td>789 Magasin Mode</td>\n",
       "      <td>Lyon</td>\n",
       "      <td>France</td>\n",
       "    </tr>\n",
       "  </tbody>\n",
       "</table>\n",
       "</div>"
      ],
      "text/plain": [
       "   ID   ID_Client  Nom_Client  Prenom_Client              Adresse_Client  \\\n",
       "0   1           1      Dupont           Jean          123 Rue de la Paix   \n",
       "1   2           2      Martin          Marie        456 Avenue des Roses   \n",
       "2   3           1      Dupont           Jean          123 Rue de la Paix   \n",
       "3   4           3     Leclerc         Pierre   789 Boulevard du Commerce   \n",
       "4   5           2      Martin          Marie        456 Avenue des Roses   \n",
       "\n",
       "   Ville_Client  Pays_Client               Email_Client   ID_Commande  \\\n",
       "0         Paris       France      jean.dupont@email.com           101   \n",
       "1          Lyon       France     marie.martin@email.com           102   \n",
       "2         Paris       France      jean.dupont@email.com           103   \n",
       "3     Marseille       France   pierre.leclerc@email.com           104   \n",
       "4          Lyon       France     marie.martin@email.com           105   \n",
       "\n",
       "   Date_Commande   Montant_Commande   ID_Produit  Nom_Produit  \\\n",
       "0     2023-01-15              250.0          501    Produit_A   \n",
       "1     2023-02-20              150.0          502    Produit_B   \n",
       "2     2023-03-10              300.0          501    Produit_A   \n",
       "3     2023-04-05               50.0          503    Produit_C   \n",
       "4     2023-05-12              200.0          504    Produit_D   \n",
       "\n",
       "   Categorie_Produit         Adresse_Magasin  Ville_Magasin  Pays_Magasin  \n",
       "0       Electronique    456 Rue des Magasins          Paris        France  \n",
       "1               Mode   789 Rue des Boutiques           Lyon        France  \n",
       "2       Electronique     123 Magasin Central          Paris        France  \n",
       "3             Maison       456 Magasin Super      Marseille        France  \n",
       "4               Mode        789 Magasin Mode           Lyon        France  "
      ]
     },
     "execution_count": 3,
     "metadata": {},
     "output_type": "execute_result"
    }
   ],
   "source": [
    "Commandes = pd.read_csv(\"Commandes.csv\")\n",
    "Commandes.head()"
   ]
  },
  {
   "cell_type": "code",
   "execution_count": 4,
   "metadata": {},
   "outputs": [
    {
     "name": "stdout",
     "output_type": "stream",
     "text": [
      "<class 'pandas.core.frame.DataFrame'>\n",
      "RangeIndex: 50 entries, 0 to 49\n",
      "Data columns (total 17 columns):\n",
      " #   Column              Non-Null Count  Dtype  \n",
      "---  ------              --------------  -----  \n",
      " 0   ID                  50 non-null     int64  \n",
      " 1    ID_Client          50 non-null     int64  \n",
      " 2    Nom_Client         50 non-null     object \n",
      " 3    Prenom_Client      50 non-null     object \n",
      " 4    Adresse_Client     50 non-null     object \n",
      " 5    Ville_Client       50 non-null     object \n",
      " 6    Pays_Client        50 non-null     object \n",
      " 7    Email_Client       50 non-null     object \n",
      " 8    ID_Commande        50 non-null     int64  \n",
      " 9    Date_Commande      50 non-null     object \n",
      " 10   Montant_Commande   50 non-null     float64\n",
      " 11   ID_Produit         50 non-null     int64  \n",
      " 12   Nom_Produit        50 non-null     object \n",
      " 13   Categorie_Produit  50 non-null     object \n",
      " 14   Adresse_Magasin    50 non-null     object \n",
      " 15   Ville_Magasin      50 non-null     object \n",
      " 16   Pays_Magasin       50 non-null     object \n",
      "dtypes: float64(1), int64(4), object(12)\n",
      "memory usage: 6.8+ KB\n"
     ]
    }
   ],
   "source": [
    "Commandes.info()"
   ]
  },
  {
   "cell_type": "code",
   "execution_count": 5,
   "metadata": {},
   "outputs": [
    {
     "data": {
      "text/plain": [
       "(50, 17)"
      ]
     },
     "execution_count": 5,
     "metadata": {},
     "output_type": "execute_result"
    }
   ],
   "source": [
    "Commandes.shape"
   ]
  },
  {
   "cell_type": "code",
   "execution_count": 6,
   "metadata": {},
   "outputs": [
    {
     "name": "stdout",
     "output_type": "stream",
     "text": [
      "2178\n"
     ]
    }
   ],
   "source": []
  },
  {
   "cell_type": "code",
   "execution_count": 7,
   "metadata": {},
   "outputs": [
    {
     "data": {
      "text/plain": [
       "8712"
      ]
     },
     "execution_count": 7,
     "metadata": {},
     "output_type": "execute_result"
    }
   ],
   "source": []
  },
  {
   "cell_type": "code",
   "execution_count": null,
   "metadata": {},
   "outputs": [],
   "source": []
  },
  {
   "cell_type": "code",
   "execution_count": null,
   "metadata": {},
   "outputs": [],
   "source": []
  },
  {
   "cell_type": "code",
   "execution_count": null,
   "metadata": {},
   "outputs": [],
   "source": []
  },
  {
   "cell_type": "code",
   "execution_count": null,
   "metadata": {},
   "outputs": [],
   "source": []
  },
  {
   "cell_type": "code",
   "execution_count": null,
   "metadata": {},
   "outputs": [],
   "source": []
  }
 ],
 "metadata": {
  "kernelspec": {
   "display_name": "Python 3",
   "language": "python",
   "name": "python3"
  },
  "language_info": {
   "codemirror_mode": {
    "name": "ipython",
    "version": 3
   },
   "file_extension": ".py",
   "mimetype": "text/x-python",
   "name": "python",
   "nbconvert_exporter": "python",
   "pygments_lexer": "ipython3",
   "version": "3.11.4"
  },
  "orig_nbformat": 4
 },
 "nbformat": 4,
 "nbformat_minor": 2
}
