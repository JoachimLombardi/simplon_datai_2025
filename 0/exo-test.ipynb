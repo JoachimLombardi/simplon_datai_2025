{
 "cells": [
  {
   "cell_type": "code",
   "execution_count": 71,
   "metadata": {},
   "outputs": [],
   "source": [
    "import numpy as np"
   ]
  },
  {
   "cell_type": "code",
   "execution_count": 72,
   "metadata": {},
   "outputs": [
    {
     "name": "stdout",
     "output_type": "stream",
     "text": [
      "0  -  tata  -  zaza  -  14  -  89.0\n",
      "1  -  toto  -  mimi  -  89  -  0.17800519706165174\n",
      "2  -  tutu  -  lolo  -  56  -  35.0\n",
      "3  -  titi  -  lilo  -  0.17800519706165174  -  39.79450129926541\n"
     ]
    }
   ],
   "source": [
    "nom = [\"tata\", \"toto\", \"tutu\", \"titi\"]\n",
    "prenom = [\"zaza\", \"mimi\", \"lolo\", \"lilo\"]\n",
    "age = [14, 89, 56, np.random.random()]\n",
    "fctions = [np.max, np.min, np.median, np.mean]\n",
    "for ind, (a,b,c,f) in enumerate(zip(nom, prenom, age, fctions)):\n",
    "    print(ind, \" - \", a, \" - \", b, \" - \", c, \" - \", f(age))"
   ]
  },
  {
   "cell_type": "code",
   "execution_count": 73,
   "metadata": {},
   "outputs": [
    {
     "data": {
      "text/plain": [
       "array([ 1.,  2.,  3.,  4.,  5.,  6.,  7.,  8.,  9., 10.])"
      ]
     },
     "execution_count": 73,
     "metadata": {},
     "output_type": "execute_result"
    }
   ],
   "source": [
    "np.linspace(1, 10, 10)"
   ]
  },
  {
   "cell_type": "code",
   "execution_count": 74,
   "metadata": {},
   "outputs": [
    {
     "data": {
      "text/plain": [
       "[]"
      ]
     },
     "execution_count": 74,
     "metadata": {},
     "output_type": "execute_result"
    }
   ],
   "source": [
    "numbers = input(\"Entrer un nombre\")\n",
    "numbers = numbers.split(\",\")\n",
    "pair = []\n",
    "for number in numbers:\n",
    "    number = int(number)\n",
    "    if number%2 == 0:\n",
    "        pair.append(number)\n",
    "pair\n"
   ]
  },
  {
   "cell_type": "code",
   "execution_count": 75,
   "metadata": {},
   "outputs": [
    {
     "data": {
      "text/plain": [
       "16"
      ]
     },
     "execution_count": 75,
     "metadata": {},
     "output_type": "execute_result"
    }
   ],
   "source": [
    "sum(range(5), 6)"
   ]
  },
  {
   "cell_type": "code",
   "execution_count": 76,
   "metadata": {},
   "outputs": [
    {
     "data": {
      "text/plain": [
       "array([[0.54051244, 0.839007  ],\n",
       "       [0.53795806, 0.56068307],\n",
       "       [0.31601762, 0.41702281],\n",
       "       [0.60527014, 0.41261333],\n",
       "       [0.46076844, 0.92992871],\n",
       "       [0.26711995, 0.89413721],\n",
       "       [0.29258524, 0.01587269],\n",
       "       [0.67836562, 0.86905698]])"
      ]
     },
     "execution_count": 76,
     "metadata": {},
     "output_type": "execute_result"
    }
   ],
   "source": [
    "table_2d = np.random.random(size=(8,2))\n",
    "table_2d"
   ]
  },
  {
   "cell_type": "code",
   "execution_count": 77,
   "metadata": {},
   "outputs": [
    {
     "data": {
      "text/plain": [
       "array([0.54051244, 0.839007  , 0.53795806, 0.56068307, 0.31601762,\n",
       "       0.41702281, 0.60527014, 0.41261333, 0.46076844, 0.92992871,\n",
       "       0.26711995, 0.89413721, 0.29258524, 0.01587269, 0.67836562,\n",
       "       0.86905698])"
      ]
     },
     "execution_count": 77,
     "metadata": {},
     "output_type": "execute_result"
    }
   ],
   "source": [
    "table_2d.flatten()"
   ]
  },
  {
   "cell_type": "code",
   "execution_count": 78,
   "metadata": {},
   "outputs": [],
   "source": [
    "calculs = {\n",
    "    \"max\": np.max,\n",
    "    \"min\": np.min,\n",
    "    \"mean\": np.mean\n",
    "}"
   ]
  },
  {
   "cell_type": "code",
   "execution_count": 79,
   "metadata": {},
   "outputs": [],
   "source": [
    "a = [4, 8, 6, 7, 0]"
   ]
  },
  {
   "cell_type": "code",
   "execution_count": null,
   "metadata": {},
   "outputs": [],
   "source": []
  },
  {
   "cell_type": "code",
   "execution_count": 80,
   "metadata": {},
   "outputs": [
    {
     "data": {
      "text/plain": [
       "[16, 64, 36, 49, 0]"
      ]
     },
     "execution_count": 80,
     "metadata": {},
     "output_type": "execute_result"
    }
   ],
   "source": [
    "liste = list(map(lambda x:x*x, a))\n",
    "liste"
   ]
  },
  {
   "cell_type": "code",
   "execution_count": 81,
   "metadata": {},
   "outputs": [],
   "source": [
    "a = 7\n",
    "b= 0"
   ]
  },
  {
   "cell_type": "code",
   "execution_count": 82,
   "metadata": {},
   "outputs": [
    {
     "name": "stdout",
     "output_type": "stream",
     "text": [
      "division by zero\n",
      "Merci\n"
     ]
    }
   ],
   "source": [
    "try:\n",
    "    division = int(a) / b\n",
    "    print(division)\n",
    "except(ZeroDivisionError) as e:\n",
    "    print(e)\n",
    "except(ValueError) as e:\n",
    "    print(e)\n",
    "except(TypeError) as e:\n",
    "    print(\"erreur\", e)\n",
    "finally:\n",
    "    print('Merci')"
   ]
  },
  {
   "cell_type": "code",
   "execution_count": 83,
   "metadata": {},
   "outputs": [],
   "source": [
    "# x = 5.2\n",
    "# if not type(x) is int:\n",
    "#     raise TypeError(\"ça n'est pas un entier\")"
   ]
  },
  {
   "cell_type": "code",
   "execution_count": null,
   "metadata": {},
   "outputs": [],
   "source": []
  },
  {
   "cell_type": "code",
   "execution_count": 84,
   "metadata": {},
   "outputs": [],
   "source": [
    "import random"
   ]
  },
  {
   "cell_type": "code",
   "execution_count": 85,
   "metadata": {},
   "outputs": [],
   "source": [
    "def creer_groupe(liste_noms, taille_groupes):\n",
    "    '''\n",
    "    Cette fonction prend en entrée une liste de noms, une taille de groupe \n",
    "    et classe les noms dans un dictionnaire pour former des groupes de la taille indiquée, si le \n",
    "    nombre de personnes n'est pas un multiple de la taille du groupe, les personnes\n",
    "    restantes forment un dernier groupe plus petit.\n",
    "\n",
    "    Args:\n",
    "        liste_noms: liste de noms .\n",
    "        taille_groupes: taille des groupes souhaitées.\n",
    "\n",
    "    Returns:\n",
    "        Dictionnaire contenant les groupes formés.\n",
    "    '''\n",
    "    groupes = {}\n",
    "    numero_groupe = 0\n",
    "    if len(liste_noms)%taille_groupes == 0:\n",
    "        nombre_groupes = len(liste_noms)/taille_groupes\n",
    "        for nombre_groupe in range(nombre_groupes):\n",
    "            liste_groupe = []\n",
    "            numero_groupe += 1\n",
    "            for nom in range(taille_groupes):\n",
    "                nom_choisi = random.choice(liste_noms)\n",
    "                indice = -1\n",
    "                for i, n in enumerate(liste_noms):\n",
    "                    if n == nom_choisi:\n",
    "                        indice = i\n",
    "                liste_groupe.append(nom_choisi)\n",
    "                liste_noms = np.delete(liste_noms, indice)\n",
    "            groupes[f\"groupe {numero_groupe}\"] = liste_groupe\n",
    "    else:\n",
    "        nombre_groupes = int(len(liste_noms)/taille_groupes) \n",
    "        for nombre_groupe in range(nombre_groupes):\n",
    "            liste_groupe = []\n",
    "            numero_groupe += 1\n",
    "            for nom in range(taille_groupes):\n",
    "                nom_choisi = random.choice(liste_noms)\n",
    "                indice = -1\n",
    "                for i, n in enumerate(liste_noms):\n",
    "                    if n == nom_choisi:\n",
    "                        indice = i\n",
    "                liste_groupe.append(nom_choisi)\n",
    "                liste_noms = np.delete(liste_noms, indice)\n",
    "            groupes[f\"groupe {numero_groupe}\"] = liste_groupe\n",
    "        liste_groupe = []\n",
    "        numero_groupe += 1\n",
    "        for nom in liste_noms:\n",
    "            liste_groupe.append(nom)\n",
    "        groupes[f\"groupe {numero_groupe}\"] = liste_groupe\n",
    "    return groupes"
   ]
  },
  {
   "cell_type": "code",
   "execution_count": 86,
   "metadata": {},
   "outputs": [],
   "source": [
    "eleves = [\n",
    "    \"arthur\",\n",
    "    \"pierre\",\n",
    "    \"marvin\",\n",
    "    \"max\",\n",
    "    \"charlotte\",\n",
    "    \"naïm\",\n",
    "    \"abdessamed\",\n",
    "    \"fabien\",\n",
    "    \"lionel\",\n",
    "    \"boris\",\n",
    "    \"cédric\",\n",
    "    \"jonathan\",\n",
    "    \"joachim\",\n",
    "    \"mhoudini\",\n",
    "    \"ilham\",\n",
    "    \"salah\",\n",
    "    \"aldrin\"\n",
    "]"
   ]
  },
  {
   "cell_type": "code",
   "execution_count": 87,
   "metadata": {},
   "outputs": [
    {
     "data": {
      "text/plain": [
       "{'groupe 1': ['mhoudini',\n",
       "  'aldrin',\n",
       "  'salah',\n",
       "  'marvin',\n",
       "  'charlotte',\n",
       "  'ilham',\n",
       "  'max',\n",
       "  'cédric',\n",
       "  'naïm'],\n",
       " 'groupe 2': ['arthur',\n",
       "  'pierre',\n",
       "  'abdessamed',\n",
       "  'fabien',\n",
       "  'lionel',\n",
       "  'boris',\n",
       "  'jonathan',\n",
       "  'joachim']}"
      ]
     },
     "execution_count": 87,
     "metadata": {},
     "output_type": "execute_result"
    }
   ],
   "source": [
    "creer_groupe(eleves, 9)"
   ]
  },
  {
   "cell_type": "markdown",
   "metadata": {},
   "source": [
    "Numpy random\n",
    "Faire un générateur de nombre aléatoire pour le loto et l'euromillion. Attention c’est un tirage aléatoire sans remise (c.a.d que la boule trouvée n’est pas remise en jeu) et tous les chiffres ont la même probabilité d’apparaître.\n",
    "\n",
    "Reprenez l’exercice 16 et faites en sorte que le nombre à trouver soit aléatoire et compris entre 1 et 1000: \n",
    "“Écrivez un programme qui demande à l'utilisateur de deviner un nombre secret (par exemple 42). Le programme indique à l'utilisateur si le nombre à deviner est plus grand ou plus petit que sa proposition et continue de demander un nombre tant que l'utilisateur ne trouve pas le nombre secret. Une fois que l'utilisateur trouve le nombre secret, affichez un message de félicitations.”"
   ]
  },
  {
   "cell_type": "code",
   "execution_count": 88,
   "metadata": {},
   "outputs": [],
   "source": [
    "import numpy as np"
   ]
  },
  {
   "cell_type": "code",
   "execution_count": 89,
   "metadata": {},
   "outputs": [],
   "source": [
    "def generateur_nombre_loto():\n",
    "    liste_tirage = {}\n",
    "    for nb_tirage in range(1, 101):\n",
    "        nombres_49 = np.array(range(1,50))\n",
    "        nombre_10 = np.array(range(1, 11))\n",
    "        liste_nombre = []\n",
    "        for i in range(5):\n",
    "            nombre_choisit = np.random.choice(nombres_49)\n",
    "            liste_nombre.append(nombre_choisit)\n",
    "            for index, nombre in enumerate(nombres_49):\n",
    "                if nombre == nombre_choisit:\n",
    "                    np.delete(nombres_49, index)\n",
    "        nombre_choisit = np.random.choice(nombre_10)\n",
    "        liste_nombre.append(nombre_choisit)\n",
    "        liste_tirage[f\"Tirage numéro {nb_tirage}\"] = liste_nombre\n",
    "    return liste_tirage"
   ]
  },
  {
   "cell_type": "code",
   "execution_count": 90,
   "metadata": {},
   "outputs": [
    {
     "data": {
      "text/plain": [
       "{'Tirage numéro 1': [13, 49, 7, 30, 13, 2],\n",
       " 'Tirage numéro 2': [41, 32, 28, 39, 29, 1],\n",
       " 'Tirage numéro 3': [11, 14, 39, 36, 20, 3],\n",
       " 'Tirage numéro 4': [20, 43, 1, 49, 25, 8],\n",
       " 'Tirage numéro 5': [16, 47, 10, 32, 48, 6],\n",
       " 'Tirage numéro 6': [39, 2, 22, 36, 5, 6],\n",
       " 'Tirage numéro 7': [10, 12, 8, 14, 48, 7],\n",
       " 'Tirage numéro 8': [12, 7, 28, 9, 37, 5],\n",
       " 'Tirage numéro 9': [13, 38, 3, 48, 13, 6],\n",
       " 'Tirage numéro 10': [23, 14, 37, 16, 46, 4],\n",
       " 'Tirage numéro 11': [29, 35, 45, 21, 18, 6],\n",
       " 'Tirage numéro 12': [2, 46, 26, 47, 19, 7],\n",
       " 'Tirage numéro 13': [36, 46, 4, 48, 1, 8],\n",
       " 'Tirage numéro 14': [45, 21, 32, 16, 44, 1],\n",
       " 'Tirage numéro 15': [47, 47, 13, 20, 6, 7],\n",
       " 'Tirage numéro 16': [30, 6, 34, 5, 33, 9],\n",
       " 'Tirage numéro 17': [27, 47, 6, 37, 6, 8],\n",
       " 'Tirage numéro 18': [46, 10, 48, 27, 1, 3],\n",
       " 'Tirage numéro 19': [40, 47, 16, 34, 3, 6],\n",
       " 'Tirage numéro 20': [30, 14, 13, 13, 49, 10],\n",
       " 'Tirage numéro 21': [30, 11, 37, 31, 36, 9],\n",
       " 'Tirage numéro 22': [26, 34, 40, 5, 40, 3],\n",
       " 'Tirage numéro 23': [38, 30, 15, 32, 17, 6],\n",
       " 'Tirage numéro 24': [12, 30, 34, 48, 44, 5],\n",
       " 'Tirage numéro 25': [9, 7, 46, 20, 30, 7],\n",
       " 'Tirage numéro 26': [17, 9, 26, 7, 15, 10],\n",
       " 'Tirage numéro 27': [19, 4, 32, 49, 19, 7],\n",
       " 'Tirage numéro 28': [26, 20, 6, 24, 28, 8],\n",
       " 'Tirage numéro 29': [44, 21, 19, 16, 1, 1],\n",
       " 'Tirage numéro 30': [31, 38, 33, 7, 47, 6],\n",
       " 'Tirage numéro 31': [24, 6, 23, 35, 22, 5],\n",
       " 'Tirage numéro 32': [6, 29, 5, 30, 11, 10],\n",
       " 'Tirage numéro 33': [37, 44, 16, 18, 22, 2],\n",
       " 'Tirage numéro 34': [7, 26, 29, 3, 15, 5],\n",
       " 'Tirage numéro 35': [21, 35, 46, 41, 26, 3],\n",
       " 'Tirage numéro 36': [29, 21, 21, 18, 4, 2],\n",
       " 'Tirage numéro 37': [11, 45, 15, 13, 32, 10],\n",
       " 'Tirage numéro 38': [7, 38, 16, 32, 18, 10],\n",
       " 'Tirage numéro 39': [25, 32, 7, 25, 34, 10],\n",
       " 'Tirage numéro 40': [11, 26, 42, 2, 5, 8],\n",
       " 'Tirage numéro 41': [43, 4, 46, 21, 10, 10],\n",
       " 'Tirage numéro 42': [14, 40, 1, 14, 15, 6],\n",
       " 'Tirage numéro 43': [7, 49, 29, 35, 41, 1],\n",
       " 'Tirage numéro 44': [4, 12, 2, 24, 25, 8],\n",
       " 'Tirage numéro 45': [15, 10, 40, 3, 30, 7],\n",
       " 'Tirage numéro 46': [3, 18, 41, 27, 6, 1],\n",
       " 'Tirage numéro 47': [41, 39, 11, 4, 25, 7],\n",
       " 'Tirage numéro 48': [32, 43, 43, 36, 33, 8],\n",
       " 'Tirage numéro 49': [4, 25, 5, 30, 17, 7],\n",
       " 'Tirage numéro 50': [48, 3, 32, 29, 38, 4],\n",
       " 'Tirage numéro 51': [42, 2, 48, 32, 17, 7],\n",
       " 'Tirage numéro 52': [35, 43, 42, 48, 10, 1],\n",
       " 'Tirage numéro 53': [49, 8, 11, 45, 33, 2],\n",
       " 'Tirage numéro 54': [19, 2, 46, 41, 34, 8],\n",
       " 'Tirage numéro 55': [14, 24, 32, 30, 11, 8],\n",
       " 'Tirage numéro 56': [10, 19, 33, 37, 35, 6],\n",
       " 'Tirage numéro 57': [39, 35, 14, 20, 21, 2],\n",
       " 'Tirage numéro 58': [1, 17, 22, 6, 32, 6],\n",
       " 'Tirage numéro 59': [1, 10, 11, 10, 26, 6],\n",
       " 'Tirage numéro 60': [23, 9, 6, 10, 39, 7],\n",
       " 'Tirage numéro 61': [19, 27, 35, 24, 10, 7],\n",
       " 'Tirage numéro 62': [12, 8, 20, 37, 28, 5],\n",
       " 'Tirage numéro 63': [30, 4, 33, 42, 11, 5],\n",
       " 'Tirage numéro 64': [24, 26, 9, 39, 40, 8],\n",
       " 'Tirage numéro 65': [15, 26, 19, 10, 19, 9],\n",
       " 'Tirage numéro 66': [28, 4, 21, 20, 49, 5],\n",
       " 'Tirage numéro 67': [35, 44, 17, 39, 11, 9],\n",
       " 'Tirage numéro 68': [47, 12, 12, 21, 41, 1],\n",
       " 'Tirage numéro 69': [44, 6, 2, 35, 45, 9],\n",
       " 'Tirage numéro 70': [47, 40, 35, 19, 17, 4],\n",
       " 'Tirage numéro 71': [15, 31, 32, 1, 49, 4],\n",
       " 'Tirage numéro 72': [16, 18, 5, 33, 41, 1],\n",
       " 'Tirage numéro 73': [3, 29, 33, 25, 30, 5],\n",
       " 'Tirage numéro 74': [4, 17, 38, 31, 2, 9],\n",
       " 'Tirage numéro 75': [30, 29, 28, 48, 47, 7],\n",
       " 'Tirage numéro 76': [35, 29, 7, 39, 45, 4],\n",
       " 'Tirage numéro 77': [44, 17, 37, 33, 12, 5],\n",
       " 'Tirage numéro 78': [23, 12, 29, 26, 44, 9],\n",
       " 'Tirage numéro 79': [21, 15, 34, 30, 25, 1],\n",
       " 'Tirage numéro 80': [18, 33, 32, 25, 25, 5],\n",
       " 'Tirage numéro 81': [22, 37, 28, 3, 16, 3],\n",
       " 'Tirage numéro 82': [41, 24, 33, 25, 15, 7],\n",
       " 'Tirage numéro 83': [35, 7, 44, 4, 30, 9],\n",
       " 'Tirage numéro 84': [9, 5, 27, 5, 26, 3],\n",
       " 'Tirage numéro 85': [22, 30, 44, 32, 38, 8],\n",
       " 'Tirage numéro 86': [46, 38, 39, 1, 37, 6],\n",
       " 'Tirage numéro 87': [9, 37, 12, 14, 19, 5],\n",
       " 'Tirage numéro 88': [28, 2, 41, 7, 45, 7],\n",
       " 'Tirage numéro 89': [15, 12, 45, 2, 7, 3],\n",
       " 'Tirage numéro 90': [32, 38, 17, 29, 10, 2],\n",
       " 'Tirage numéro 91': [48, 18, 14, 25, 18, 4],\n",
       " 'Tirage numéro 92': [25, 13, 27, 5, 22, 3],\n",
       " 'Tirage numéro 93': [11, 45, 16, 13, 49, 9],\n",
       " 'Tirage numéro 94': [20, 12, 46, 11, 31, 2],\n",
       " 'Tirage numéro 95': [10, 13, 5, 33, 46, 5],\n",
       " 'Tirage numéro 96': [31, 45, 14, 26, 34, 5],\n",
       " 'Tirage numéro 97': [48, 24, 27, 28, 2, 5],\n",
       " 'Tirage numéro 98': [31, 42, 16, 10, 36, 5],\n",
       " 'Tirage numéro 99': [30, 8, 35, 5, 38, 7],\n",
       " 'Tirage numéro 100': [13, 23, 11, 49, 10, 9]}"
      ]
     },
     "execution_count": 90,
     "metadata": {},
     "output_type": "execute_result"
    }
   ],
   "source": [
    "generateur_nombre_loto()"
   ]
  },
  {
   "cell_type": "code",
   "execution_count": 91,
   "metadata": {},
   "outputs": [],
   "source": [
    "def generateur_nombre_euromillions():\n",
    "    nombres_49 = np.array(range(1,50))\n",
    "    nombre_12 = np.array(range(1, 13))\n",
    "    liste_nombre = []\n",
    "    for i in range(5):\n",
    "        nombre_choisit = np.random.choice(nombres_49)\n",
    "        liste_nombre.append(nombre_choisit)\n",
    "        for index, nombre in enumerate(nombres_49):\n",
    "            if nombre == nombre_choisit:\n",
    "                np.delete(nombres_49, index)\n",
    "    for i in range(2):\n",
    "        nombre_choisit = np.random.choice(nombre_12)\n",
    "        liste_nombre.append(nombre_choisit)\n",
    "        for index, nombre in enumerate(nombres_49):\n",
    "            if nombre == nombre_choisit:\n",
    "                np.delete(nombres_49, index)\n",
    "    return liste_nombre"
   ]
  },
  {
   "cell_type": "code",
   "execution_count": 92,
   "metadata": {},
   "outputs": [
    {
     "data": {
      "text/plain": [
       "[44, 47, 39, 28, 40, 10, 1]"
      ]
     },
     "execution_count": 92,
     "metadata": {},
     "output_type": "execute_result"
    }
   ],
   "source": [
    "generateur_nombre_euromillions()"
   ]
  },
  {
   "cell_type": "code",
   "execution_count": 129,
   "metadata": {},
   "outputs": [],
   "source": [
    "def creer_groupe(liste_noms, taille_groupes):\n",
    "    '''\n",
    "    Cette fonction prend en entrée une liste de noms, une taille de groupe \n",
    "    et classe les noms dans un dictionnaire pour former des groupes de la taille indiquée, si le \n",
    "    nombre de personnes n'est pas un multiple de la taille du groupe, les personnes\n",
    "    restantes forment un dernier groupe plus petit.\n",
    "\n",
    "    Args:\n",
    "        liste_noms: liste de noms .\n",
    "        taille_groupes: taille des groupes souhaitées.\n",
    "\n",
    "    Returns:\n",
    "        Dictionnaire contenant les groupes formés.\n",
    "    '''\n",
    "    groupes = {}\n",
    "    numero_groupe = 0\n",
    " \n",
    "    if len(liste_noms)%taille_groupes == 0:\n",
    "        a = 0\n",
    "        nombre_groupes = len(liste_noms)/taille_groupes\n",
    "        np.random.shuffle(liste_noms)\n",
    "        for nombre_groupe in range(nombre_groupes):\n",
    "            numero_groupe += 1    \n",
    "            groupes[f\"groupe {numero_groupe}\"] =  liste_noms[a:a + taille_groupes]\n",
    "            a += taille_groupes \n",
    "    else:\n",
    "        a = 0\n",
    "        nombre_groupes = int(len(liste_noms)/taille_groupes) \n",
    "        np.random.shuffle(liste_noms)\n",
    "        for nombre_groupe in range(nombre_groupes):\n",
    "            numero_groupe += 1\n",
    "            groupes[f\"groupe {numero_groupe}\"] =  liste_noms[a:a + taille_groupes]\n",
    "            a += taille_groupes\n",
    "        numero_groupe += 1\n",
    "        groupes[f\"groupe {numero_groupe}\"] =  liste_noms[a:]\n",
    "    return groupes"
   ]
  },
  {
   "cell_type": "code",
   "execution_count": 130,
   "metadata": {},
   "outputs": [
    {
     "data": {
      "text/plain": [
       "{'groupe 1': ['boris', 'jonathan', 'lionel', 'aldrin', 'pierre', 'charlotte'],\n",
       " 'groupe 2': ['cédric', 'fabien', 'mhoudini', 'arthur', 'marvin', 'joachim'],\n",
       " 'groupe 3': ['ilham', 'naïm', 'max', 'salah', 'abdessamed']}"
      ]
     },
     "execution_count": 130,
     "metadata": {},
     "output_type": "execute_result"
    }
   ],
   "source": [
    "creer_groupe(eleves, 6)"
   ]
  },
  {
   "cell_type": "code",
   "execution_count": null,
   "metadata": {},
   "outputs": [],
   "source": []
  },
  {
   "cell_type": "code",
   "execution_count": null,
   "metadata": {},
   "outputs": [],
   "source": []
  },
  {
   "cell_type": "code",
   "execution_count": null,
   "metadata": {},
   "outputs": [],
   "source": []
  }
 ],
 "metadata": {
  "kernelspec": {
   "display_name": "base",
   "language": "python",
   "name": "python3"
  },
  "language_info": {
   "codemirror_mode": {
    "name": "ipython",
    "version": 3
   },
   "file_extension": ".py",
   "mimetype": "text/x-python",
   "name": "python",
   "nbconvert_exporter": "python",
   "pygments_lexer": "ipython3",
   "version": "3.11.4"
  },
  "orig_nbformat": 4
 },
 "nbformat": 4,
 "nbformat_minor": 2
}
