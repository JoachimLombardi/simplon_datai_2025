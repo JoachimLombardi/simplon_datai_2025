{
 "cells": [
  {
   "cell_type": "code",
   "execution_count": 1,
   "metadata": {},
   "outputs": [],
   "source": [
    "import numpy as np"
   ]
  },
  {
   "cell_type": "code",
   "execution_count": 2,
   "metadata": {},
   "outputs": [
    {
     "name": "stdout",
     "output_type": "stream",
     "text": [
      "0  -  tata  -  zaza  -  14  -  89.0\n",
      "1  -  toto  -  mimi  -  89  -  0.7736160875119462\n",
      "2  -  tutu  -  lolo  -  56  -  35.0\n",
      "3  -  titi  -  lilo  -  0.7736160875119462  -  39.94340402187799\n"
     ]
    }
   ],
   "source": [
    "nom = [\"tata\", \"toto\", \"tutu\", \"titi\"]\n",
    "prenom = [\"zaza\", \"mimi\", \"lolo\", \"lilo\"]\n",
    "age = [14, 89, 56, np.random.random()]\n",
    "fctions = [np.max, np.min, np.median, np.mean]\n",
    "for ind, (a,b,c,f) in enumerate(zip(nom, prenom, age, fctions)):\n",
    "    print(ind, \" - \", a, \" - \", b, \" - \", c, \" - \", f(age))"
   ]
  },
  {
   "cell_type": "code",
   "execution_count": 3,
   "metadata": {},
   "outputs": [
    {
     "data": {
      "text/plain": [
       "array([ 1.,  2.,  3.,  4.,  5.,  6.,  7.,  8.,  9., 10.])"
      ]
     },
     "execution_count": 3,
     "metadata": {},
     "output_type": "execute_result"
    }
   ],
   "source": [
    "np.linspace(1, 10, 10)"
   ]
  },
  {
   "cell_type": "code",
   "execution_count": 4,
   "metadata": {},
   "outputs": [
    {
     "data": {
      "text/plain": [
       "[4]"
      ]
     },
     "execution_count": 4,
     "metadata": {},
     "output_type": "execute_result"
    }
   ],
   "source": [
    "numbers = input(\"Entrer un nombre\")\n",
    "numbers = numbers.split(\",\")\n",
    "pair = []\n",
    "for number in numbers:\n",
    "    number = int(number)\n",
    "    if number%2 == 0:\n",
    "        pair.append(number)\n",
    "pair\n"
   ]
  },
  {
   "cell_type": "code",
   "execution_count": 5,
   "metadata": {},
   "outputs": [
    {
     "data": {
      "text/plain": [
       "16"
      ]
     },
     "execution_count": 5,
     "metadata": {},
     "output_type": "execute_result"
    }
   ],
   "source": [
    "sum(range(5), 6)"
   ]
  },
  {
   "cell_type": "code",
   "execution_count": 6,
   "metadata": {},
   "outputs": [
    {
     "data": {
      "text/plain": [
       "array([[0.60051437, 0.5555657 ],\n",
       "       [0.72470125, 0.127123  ],\n",
       "       [0.47497208, 0.92891243],\n",
       "       [0.10226803, 0.91647836],\n",
       "       [0.69527477, 0.03779723],\n",
       "       [0.51678425, 0.88884354],\n",
       "       [0.51224959, 0.4913012 ],\n",
       "       [0.32703411, 0.44724084]])"
      ]
     },
     "execution_count": 6,
     "metadata": {},
     "output_type": "execute_result"
    }
   ],
   "source": [
    "table_2d = np.random.random(size=(8,2))\n",
    "table_2d"
   ]
  },
  {
   "cell_type": "code",
   "execution_count": 7,
   "metadata": {},
   "outputs": [
    {
     "data": {
      "text/plain": [
       "array([0.60051437, 0.5555657 , 0.72470125, 0.127123  , 0.47497208,\n",
       "       0.92891243, 0.10226803, 0.91647836, 0.69527477, 0.03779723,\n",
       "       0.51678425, 0.88884354, 0.51224959, 0.4913012 , 0.32703411,\n",
       "       0.44724084])"
      ]
     },
     "execution_count": 7,
     "metadata": {},
     "output_type": "execute_result"
    }
   ],
   "source": [
    "table_2d.flatten()"
   ]
  },
  {
   "cell_type": "code",
   "execution_count": 8,
   "metadata": {},
   "outputs": [],
   "source": [
    "calculs = {\n",
    "    \"max\": np.max,\n",
    "    \"min\": np.min,\n",
    "    \"mean\": np.mean\n",
    "}"
   ]
  },
  {
   "cell_type": "code",
   "execution_count": 9,
   "metadata": {},
   "outputs": [],
   "source": [
    "a = [4, 8, 6, 7, 0]"
   ]
  },
  {
   "cell_type": "code",
   "execution_count": null,
   "metadata": {},
   "outputs": [],
   "source": []
  },
  {
   "cell_type": "code",
   "execution_count": 10,
   "metadata": {},
   "outputs": [
    {
     "data": {
      "text/plain": [
       "[16, 64, 36, 49, 0]"
      ]
     },
     "execution_count": 10,
     "metadata": {},
     "output_type": "execute_result"
    }
   ],
   "source": [
    "liste = list(map(lambda x:x*x, a))\n",
    "liste"
   ]
  },
  {
   "cell_type": "code",
   "execution_count": 11,
   "metadata": {},
   "outputs": [],
   "source": [
    "a = 7\n",
    "b= 0"
   ]
  },
  {
   "cell_type": "code",
   "execution_count": 12,
   "metadata": {},
   "outputs": [
    {
     "name": "stdout",
     "output_type": "stream",
     "text": [
      "division by zero\n",
      "Merci\n"
     ]
    }
   ],
   "source": [
    "try:\n",
    "    division = int(a) / b\n",
    "    print(division)\n",
    "except(ZeroDivisionError) as e:\n",
    "    print(e)\n",
    "except(ValueError) as e:\n",
    "    print(e)\n",
    "except(TypeError) as e:\n",
    "    print(\"erreur\", e)\n",
    "finally:\n",
    "    print('Merci')"
   ]
  },
  {
   "cell_type": "code",
   "execution_count": 13,
   "metadata": {},
   "outputs": [],
   "source": [
    "# x = 5.2\n",
    "# if not type(x) is int:\n",
    "#     raise TypeError(\"ça n'est pas un entier\")"
   ]
  },
  {
   "cell_type": "code",
   "execution_count": null,
   "metadata": {},
   "outputs": [],
   "source": []
  },
  {
   "cell_type": "code",
   "execution_count": 14,
   "metadata": {},
   "outputs": [],
   "source": [
    "import random"
   ]
  },
  {
   "cell_type": "code",
   "execution_count": 15,
   "metadata": {},
   "outputs": [],
   "source": [
    "def creer_groupe(liste_noms, taille_groupes):\n",
    "    '''\n",
    "    Cette fonction prend en entrée une liste de noms, une taille de groupe \n",
    "    et classe les noms dans un dictionnaire pour former des groupes de la taille indiquée, si le \n",
    "    nombre de personnes n'est pas un multiple de la taille du groupe, les personnes\n",
    "    restantes forment un dernier groupe plus petit.\n",
    "\n",
    "    Args:\n",
    "        liste_noms: liste de noms .\n",
    "        taille_groupes: taille des groupes souhaitées.\n",
    "\n",
    "    Returns:\n",
    "        Dictionnaire contenant les groupes formés.\n",
    "    '''\n",
    "    groupes = {}\n",
    "    numero_groupe = 0\n",
    "    if len(liste_noms)%taille_groupes == 0:\n",
    "        nombre_groupes = len(liste_noms)/taille_groupes\n",
    "        for nombre_groupe in range(nombre_groupes):\n",
    "            liste_groupe = []\n",
    "            numero_groupe += 1\n",
    "            for nom in range(taille_groupes):\n",
    "                nom_choisi = random.choice(liste_noms)\n",
    "                indice = -1\n",
    "                for i, n in enumerate(liste_noms):\n",
    "                    if n == nom_choisi:\n",
    "                        indice = i\n",
    "                liste_groupe.append(nom_choisi)\n",
    "                liste_noms = np.delete(liste_noms, indice)\n",
    "            groupes[f\"groupe {numero_groupe}\"] = liste_groupe\n",
    "    else:\n",
    "        nombre_groupes = int(len(liste_noms)/taille_groupes) \n",
    "        for nombre_groupe in range(nombre_groupes):\n",
    "            liste_groupe = []\n",
    "            numero_groupe += 1\n",
    "            for nom in range(taille_groupes):\n",
    "                nom_choisi = random.choice(liste_noms)\n",
    "                indice = -1\n",
    "                for i, n in enumerate(liste_noms):\n",
    "                    if n == nom_choisi:\n",
    "                        indice = i\n",
    "                liste_groupe.append(nom_choisi)\n",
    "                liste_noms = np.delete(liste_noms, indice)\n",
    "            groupes[f\"groupe {numero_groupe}\"] = liste_groupe\n",
    "        liste_groupe = []\n",
    "        numero_groupe += 1\n",
    "        for nom in liste_noms:\n",
    "            liste_groupe.append(nom)\n",
    "        groupes[f\"groupe {numero_groupe}\"] = liste_groupe\n",
    "    return groupes"
   ]
  },
  {
   "cell_type": "code",
   "execution_count": 16,
   "metadata": {},
   "outputs": [],
   "source": [
    "eleves = [\n",
    "    \"arthur\",\n",
    "    \"pierre\",\n",
    "    \"marvin\",\n",
    "    \"max\",\n",
    "    \"charlotte\",\n",
    "    \"abdessamed\",\n",
    "    \"fabien\",\n",
    "    \"lionel\",\n",
    "    \"boris\",\n",
    "    \"cédric\",\n",
    "    \"jonathan\",\n",
    "    \"joachim\",\n",
    "    \"mhoudini\",\n",
    "    \"ilham\",\n",
    "    \"salah\",\n",
    "    \"aldrin\"\n",
    "]"
   ]
  },
  {
   "cell_type": "code",
   "execution_count": 17,
   "metadata": {},
   "outputs": [
    {
     "data": {
      "text/plain": [
       "{'groupe 1': ['charlotte',\n",
       "  'salah',\n",
       "  'fabien',\n",
       "  'joachim',\n",
       "  'lionel',\n",
       "  'arthur',\n",
       "  'jonathan',\n",
       "  'abdessamed',\n",
       "  'cédric'],\n",
       " 'groupe 2': ['pierre',\n",
       "  'marvin',\n",
       "  'max',\n",
       "  'boris',\n",
       "  'mhoudini',\n",
       "  'ilham',\n",
       "  'aldrin']}"
      ]
     },
     "execution_count": 17,
     "metadata": {},
     "output_type": "execute_result"
    }
   ],
   "source": [
    "creer_groupe(eleves, 9)"
   ]
  },
  {
   "cell_type": "markdown",
   "metadata": {},
   "source": [
    "Numpy random\n",
    "Faire un générateur de nombre aléatoire pour le loto et l'euromillion. Attention c’est un tirage aléatoire sans remise (c.a.d que la boule trouvée n’est pas remise en jeu) et tous les chiffres ont la même probabilité d’apparaître.\n",
    "\n",
    "Reprenez l’exercice 16 et faites en sorte que le nombre à trouver soit aléatoire et compris entre 1 et 1000: \n",
    "“Écrivez un programme qui demande à l'utilisateur de deviner un nombre secret (par exemple 42). Le programme indique à l'utilisateur si le nombre à deviner est plus grand ou plus petit que sa proposition et continue de demander un nombre tant que l'utilisateur ne trouve pas le nombre secret. Une fois que l'utilisateur trouve le nombre secret, affichez un message de félicitations.”"
   ]
  },
  {
   "cell_type": "code",
   "execution_count": 18,
   "metadata": {},
   "outputs": [],
   "source": [
    "import numpy as np"
   ]
  },
  {
   "cell_type": "code",
   "execution_count": 19,
   "metadata": {},
   "outputs": [],
   "source": [
    "def generateur_nombre_loto():\n",
    "    liste_tirage = {}\n",
    "    for nb_tirage in range(1, 101):\n",
    "        nombres_49 = np.array(range(1,50))\n",
    "        nombre_10 = np.array(range(1, 11))\n",
    "        liste_nombre = []\n",
    "        for i in range(5):\n",
    "            nombre_choisit = np.random.choice(nombres_49)\n",
    "            liste_nombre.append(nombre_choisit)\n",
    "            for index, nombre in enumerate(nombres_49):\n",
    "                if nombre == nombre_choisit:\n",
    "                    np.delete(nombres_49, index)\n",
    "        nombre_choisit = np.random.choice(nombre_10)\n",
    "        liste_nombre.append(nombre_choisit)\n",
    "        liste_tirage[f\"Tirage numéro {nb_tirage}\"] = liste_nombre\n",
    "    return liste_tirage"
   ]
  },
  {
   "cell_type": "code",
   "execution_count": 20,
   "metadata": {},
   "outputs": [
    {
     "data": {
      "text/plain": [
       "{'Tirage numéro 1': [9, 22, 40, 36, 49, 9],\n",
       " 'Tirage numéro 2': [46, 38, 19, 13, 10, 9],\n",
       " 'Tirage numéro 3': [40, 24, 21, 43, 27, 4],\n",
       " 'Tirage numéro 4': [18, 13, 25, 23, 39, 7],\n",
       " 'Tirage numéro 5': [19, 5, 45, 20, 33, 6],\n",
       " 'Tirage numéro 6': [22, 33, 42, 3, 46, 3],\n",
       " 'Tirage numéro 7': [42, 42, 23, 29, 14, 8],\n",
       " 'Tirage numéro 8': [7, 2, 49, 2, 33, 4],\n",
       " 'Tirage numéro 9': [45, 36, 22, 38, 34, 3],\n",
       " 'Tirage numéro 10': [7, 24, 22, 13, 46, 1],\n",
       " 'Tirage numéro 11': [41, 38, 17, 40, 43, 9],\n",
       " 'Tirage numéro 12': [36, 47, 5, 39, 17, 7],\n",
       " 'Tirage numéro 13': [23, 44, 38, 15, 27, 4],\n",
       " 'Tirage numéro 14': [43, 1, 10, 35, 22, 7],\n",
       " 'Tirage numéro 15': [22, 27, 18, 14, 1, 1],\n",
       " 'Tirage numéro 16': [22, 36, 43, 26, 43, 6],\n",
       " 'Tirage numéro 17': [22, 34, 6, 35, 7, 6],\n",
       " 'Tirage numéro 18': [11, 10, 38, 27, 49, 2],\n",
       " 'Tirage numéro 19': [41, 9, 40, 28, 7, 7],\n",
       " 'Tirage numéro 20': [4, 19, 25, 5, 40, 2],\n",
       " 'Tirage numéro 21': [33, 17, 4, 27, 22, 9],\n",
       " 'Tirage numéro 22': [16, 39, 18, 33, 1, 4],\n",
       " 'Tirage numéro 23': [19, 19, 5, 25, 36, 7],\n",
       " 'Tirage numéro 24': [45, 8, 25, 37, 6, 1],\n",
       " 'Tirage numéro 25': [44, 40, 32, 37, 28, 4],\n",
       " 'Tirage numéro 26': [9, 4, 36, 10, 3, 4],\n",
       " 'Tirage numéro 27': [19, 16, 16, 28, 6, 7],\n",
       " 'Tirage numéro 28': [17, 30, 12, 48, 48, 2],\n",
       " 'Tirage numéro 29': [38, 35, 36, 32, 8, 10],\n",
       " 'Tirage numéro 30': [25, 27, 12, 20, 27, 8],\n",
       " 'Tirage numéro 31': [1, 4, 17, 49, 29, 10],\n",
       " 'Tirage numéro 32': [13, 26, 48, 7, 6, 6],\n",
       " 'Tirage numéro 33': [2, 41, 30, 11, 35, 7],\n",
       " 'Tirage numéro 34': [11, 6, 35, 36, 12, 2],\n",
       " 'Tirage numéro 35': [22, 34, 45, 20, 20, 6],\n",
       " 'Tirage numéro 36': [2, 37, 48, 47, 31, 6],\n",
       " 'Tirage numéro 37': [31, 37, 33, 42, 18, 1],\n",
       " 'Tirage numéro 38': [34, 18, 37, 1, 14, 5],\n",
       " 'Tirage numéro 39': [18, 49, 46, 45, 22, 9],\n",
       " 'Tirage numéro 40': [36, 8, 29, 32, 6, 3],\n",
       " 'Tirage numéro 41': [36, 20, 46, 13, 24, 9],\n",
       " 'Tirage numéro 42': [33, 26, 42, 42, 45, 5],\n",
       " 'Tirage numéro 43': [4, 48, 29, 36, 25, 9],\n",
       " 'Tirage numéro 44': [42, 44, 37, 34, 15, 8],\n",
       " 'Tirage numéro 45': [21, 37, 38, 9, 25, 9],\n",
       " 'Tirage numéro 46': [34, 49, 7, 47, 43, 8],\n",
       " 'Tirage numéro 47': [11, 44, 19, 47, 20, 1],\n",
       " 'Tirage numéro 48': [32, 25, 10, 6, 13, 6],\n",
       " 'Tirage numéro 49': [45, 3, 23, 42, 31, 8],\n",
       " 'Tirage numéro 50': [17, 44, 5, 1, 11, 3],\n",
       " 'Tirage numéro 51': [21, 16, 11, 15, 42, 7],\n",
       " 'Tirage numéro 52': [34, 27, 12, 29, 20, 4],\n",
       " 'Tirage numéro 53': [9, 34, 35, 43, 38, 6],\n",
       " 'Tirage numéro 54': [31, 31, 20, 30, 11, 5],\n",
       " 'Tirage numéro 55': [19, 23, 32, 28, 20, 9],\n",
       " 'Tirage numéro 56': [11, 7, 16, 14, 12, 10],\n",
       " 'Tirage numéro 57': [30, 41, 39, 33, 46, 10],\n",
       " 'Tirage numéro 58': [47, 7, 46, 4, 16, 2],\n",
       " 'Tirage numéro 59': [1, 7, 47, 30, 39, 3],\n",
       " 'Tirage numéro 60': [40, 43, 40, 16, 18, 2],\n",
       " 'Tirage numéro 61': [2, 10, 22, 6, 5, 9],\n",
       " 'Tirage numéro 62': [7, 2, 45, 49, 44, 2],\n",
       " 'Tirage numéro 63': [20, 21, 1, 12, 28, 10],\n",
       " 'Tirage numéro 64': [22, 18, 23, 6, 32, 8],\n",
       " 'Tirage numéro 65': [28, 20, 35, 47, 11, 6],\n",
       " 'Tirage numéro 66': [29, 25, 49, 18, 14, 6],\n",
       " 'Tirage numéro 67': [1, 21, 19, 10, 19, 2],\n",
       " 'Tirage numéro 68': [44, 24, 48, 17, 35, 2],\n",
       " 'Tirage numéro 69': [6, 40, 13, 48, 45, 6],\n",
       " 'Tirage numéro 70': [15, 48, 31, 37, 11, 5],\n",
       " 'Tirage numéro 71': [47, 33, 9, 20, 45, 6],\n",
       " 'Tirage numéro 72': [17, 31, 3, 35, 26, 7],\n",
       " 'Tirage numéro 73': [17, 40, 37, 45, 24, 6],\n",
       " 'Tirage numéro 74': [27, 42, 9, 30, 20, 4],\n",
       " 'Tirage numéro 75': [38, 9, 5, 43, 22, 3],\n",
       " 'Tirage numéro 76': [16, 27, 35, 34, 21, 7],\n",
       " 'Tirage numéro 77': [17, 18, 12, 4, 30, 9],\n",
       " 'Tirage numéro 78': [48, 36, 1, 45, 43, 4],\n",
       " 'Tirage numéro 79': [10, 42, 44, 17, 29, 8],\n",
       " 'Tirage numéro 80': [24, 6, 20, 12, 40, 3],\n",
       " 'Tirage numéro 81': [10, 42, 34, 10, 38, 7],\n",
       " 'Tirage numéro 82': [46, 23, 5, 8, 47, 4],\n",
       " 'Tirage numéro 83': [37, 2, 26, 49, 44, 6],\n",
       " 'Tirage numéro 84': [1, 23, 15, 22, 8, 10],\n",
       " 'Tirage numéro 85': [39, 9, 36, 23, 20, 3],\n",
       " 'Tirage numéro 86': [2, 39, 16, 45, 37, 3],\n",
       " 'Tirage numéro 87': [35, 14, 37, 23, 33, 7],\n",
       " 'Tirage numéro 88': [48, 12, 34, 1, 38, 2],\n",
       " 'Tirage numéro 89': [36, 19, 26, 29, 41, 5],\n",
       " 'Tirage numéro 90': [49, 7, 9, 15, 42, 1],\n",
       " 'Tirage numéro 91': [17, 27, 46, 32, 33, 3],\n",
       " 'Tirage numéro 92': [29, 40, 40, 7, 34, 9],\n",
       " 'Tirage numéro 93': [40, 10, 29, 48, 37, 6],\n",
       " 'Tirage numéro 94': [1, 49, 5, 33, 7, 4],\n",
       " 'Tirage numéro 95': [13, 16, 4, 17, 23, 5],\n",
       " 'Tirage numéro 96': [9, 30, 44, 38, 1, 4],\n",
       " 'Tirage numéro 97': [35, 23, 8, 45, 30, 3],\n",
       " 'Tirage numéro 98': [26, 2, 41, 38, 21, 1],\n",
       " 'Tirage numéro 99': [26, 30, 8, 8, 39, 2],\n",
       " 'Tirage numéro 100': [44, 22, 13, 3, 4, 7]}"
      ]
     },
     "execution_count": 20,
     "metadata": {},
     "output_type": "execute_result"
    }
   ],
   "source": [
    "generateur_nombre_loto()"
   ]
  },
  {
   "cell_type": "code",
   "execution_count": 21,
   "metadata": {},
   "outputs": [],
   "source": [
    "def generateur_nombre_euromillions():\n",
    "    nombres_49 = np.array(range(1,50))\n",
    "    nombre_12 = np.array(range(1, 13))\n",
    "    liste_nombre = []\n",
    "    for i in range(5):\n",
    "        nombre_choisit = np.random.choice(nombres_49)\n",
    "        liste_nombre.append(nombre_choisit)\n",
    "        for index, nombre in enumerate(nombres_49):\n",
    "            if nombre == nombre_choisit:\n",
    "                np.delete(nombres_49, index)\n",
    "    for i in range(2):\n",
    "        nombre_choisit = np.random.choice(nombre_12)\n",
    "        liste_nombre.append(nombre_choisit)\n",
    "        for index, nombre in enumerate(nombres_49):\n",
    "            if nombre == nombre_choisit:\n",
    "                np.delete(nombres_49, index)\n",
    "    return liste_nombre"
   ]
  },
  {
   "cell_type": "code",
   "execution_count": 22,
   "metadata": {},
   "outputs": [
    {
     "data": {
      "text/plain": [
       "[48, 9, 11, 7, 46, 5, 8]"
      ]
     },
     "execution_count": 22,
     "metadata": {},
     "output_type": "execute_result"
    }
   ],
   "source": [
    "generateur_nombre_euromillions()"
   ]
  },
  {
   "cell_type": "code",
   "execution_count": 23,
   "metadata": {},
   "outputs": [],
   "source": [
    "def creer_groupe(liste_noms, taille_groupes):\n",
    "    '''\n",
    "    Cette fonction prend en entrée une liste de noms, une taille de groupe \n",
    "    et classe les noms dans un dictionnaire pour former des groupes de la taille indiquée, si le \n",
    "    nombre de personnes n'est pas un multiple de la taille du groupe, les personnes\n",
    "    restantes forment un dernier groupe plus petit.\n",
    "\n",
    "    Args:\n",
    "        liste_noms: liste de noms .\n",
    "        taille_groupes: taille des groupes souhaitées.\n",
    "\n",
    "    Returns:\n",
    "        Dictionnaire contenant les groupes formés.\n",
    "    '''\n",
    "    groupes = {}\n",
    "    numero_groupe = 0\n",
    "    a = 0\n",
    "    nombre_groupes = int(len(liste_noms)/taille_groupes) \n",
    "    np.random.shuffle(liste_noms)\n",
    "    for nombre_groupe in range(nombre_groupes):\n",
    "        numero_groupe += 1\n",
    "        groupes[f\"groupe {numero_groupe}\"] =  liste_noms[a:a + taille_groupes]\n",
    "        a += taille_groupes\n",
    "    if len(liste_noms)%taille_groupes != 0:\n",
    "        numero_groupe += 1\n",
    "        groupes[f\"groupe {numero_groupe}\"] =  liste_noms[a:]\n",
    "    return groupes"
   ]
  },
  {
   "cell_type": "code",
   "execution_count": 26,
   "metadata": {},
   "outputs": [
    {
     "data": {
      "text/plain": [
       "{'groupe 1': ['max', 'pierre', 'arthur', 'lionel'],\n",
       " 'groupe 2': ['aldrin', 'jonathan', 'joachim', 'cédric'],\n",
       " 'groupe 3': ['ilham', 'charlotte', 'boris', 'abdessamed'],\n",
       " 'groupe 4': ['marvin', 'fabien', 'mhoudini', 'salah']}"
      ]
     },
     "execution_count": 26,
     "metadata": {},
     "output_type": "execute_result"
    }
   ],
   "source": [
    "creer_groupe(eleves, 4)"
   ]
  },
  {
   "cell_type": "code",
   "execution_count": null,
   "metadata": {},
   "outputs": [],
   "source": []
  },
  {
   "cell_type": "code",
   "execution_count": null,
   "metadata": {},
   "outputs": [],
   "source": []
  },
  {
   "cell_type": "code",
   "execution_count": null,
   "metadata": {},
   "outputs": [],
   "source": []
  }
 ],
 "metadata": {
  "kernelspec": {
   "display_name": "base",
   "language": "python",
   "name": "python3"
  },
  "language_info": {
   "codemirror_mode": {
    "name": "ipython",
    "version": 3
   },
   "file_extension": ".py",
   "mimetype": "text/x-python",
   "name": "python",
   "nbconvert_exporter": "python",
   "pygments_lexer": "ipython3",
   "version": "3.11.4"
  },
  "orig_nbformat": 4
 },
 "nbformat": 4,
 "nbformat_minor": 2
}
