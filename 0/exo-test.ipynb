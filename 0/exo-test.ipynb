{
 "cells": [
  {
   "cell_type": "code",
   "execution_count": 27,
   "metadata": {},
   "outputs": [],
   "source": [
    "import numpy as np"
   ]
  },
  {
   "cell_type": "code",
   "execution_count": 28,
   "metadata": {},
   "outputs": [
    {
     "name": "stdout",
     "output_type": "stream",
     "text": [
      "0  -  tata  -  zaza  -  14  -  89.0\n",
      "1  -  toto  -  mimi  -  89  -  0.6170627253351043\n",
      "2  -  tutu  -  lolo  -  56  -  35.0\n",
      "3  -  titi  -  lilo  -  0.6170627253351043  -  39.904265681333776\n"
     ]
    }
   ],
   "source": [
    "nom = [\"tata\", \"toto\", \"tutu\", \"titi\"]\n",
    "prenom = [\"zaza\", \"mimi\", \"lolo\", \"lilo\"]\n",
    "age = [14, 89, 56, np.random.random()]\n",
    "fctions = [np.max, np.min, np.median, np.mean]\n",
    "for ind, (a,b,c,f) in enumerate(zip(nom, prenom, age, fctions)):\n",
    "    print(ind, \" - \", a, \" - \", b, \" - \", c, \" - \", f(age))"
   ]
  },
  {
   "cell_type": "code",
   "execution_count": 29,
   "metadata": {},
   "outputs": [
    {
     "data": {
      "text/plain": [
       "array([ 1.,  2.,  3.,  4.,  5.,  6.,  7.,  8.,  9., 10.])"
      ]
     },
     "execution_count": 29,
     "metadata": {},
     "output_type": "execute_result"
    }
   ],
   "source": [
    "np.linspace(1, 10, 10)"
   ]
  },
  {
   "cell_type": "code",
   "execution_count": 30,
   "metadata": {},
   "outputs": [
    {
     "data": {
      "text/plain": [
       "[4]"
      ]
     },
     "execution_count": 30,
     "metadata": {},
     "output_type": "execute_result"
    }
   ],
   "source": [
    "numbers = input(\"Entrer un nombre\")\n",
    "numbers = numbers.split(\",\")\n",
    "pair = []\n",
    "for number in numbers:\n",
    "    number = int(number)\n",
    "    if number%2 == 0:\n",
    "        pair.append(number)\n",
    "pair\n"
   ]
  },
  {
   "cell_type": "code",
   "execution_count": 31,
   "metadata": {},
   "outputs": [
    {
     "data": {
      "text/plain": [
       "16"
      ]
     },
     "execution_count": 31,
     "metadata": {},
     "output_type": "execute_result"
    }
   ],
   "source": [
    "sum(range(5), 6)"
   ]
  },
  {
   "cell_type": "code",
   "execution_count": 32,
   "metadata": {},
   "outputs": [
    {
     "data": {
      "text/plain": [
       "array([[0.69061812, 0.58548335],\n",
       "       [0.27590309, 0.38775087],\n",
       "       [0.86409231, 0.85681484],\n",
       "       [0.80089517, 0.86764798],\n",
       "       [0.63732144, 0.30618408],\n",
       "       [0.26132702, 0.66283735],\n",
       "       [0.41625253, 0.97696251],\n",
       "       [0.32438502, 0.66360539]])"
      ]
     },
     "execution_count": 32,
     "metadata": {},
     "output_type": "execute_result"
    }
   ],
   "source": [
    "table_2d = np.random.random(size=(8,2))\n",
    "table_2d"
   ]
  },
  {
   "cell_type": "code",
   "execution_count": 33,
   "metadata": {},
   "outputs": [
    {
     "data": {
      "text/plain": [
       "array([0.69061812, 0.58548335, 0.27590309, 0.38775087, 0.86409231,\n",
       "       0.85681484, 0.80089517, 0.86764798, 0.63732144, 0.30618408,\n",
       "       0.26132702, 0.66283735, 0.41625253, 0.97696251, 0.32438502,\n",
       "       0.66360539])"
      ]
     },
     "execution_count": 33,
     "metadata": {},
     "output_type": "execute_result"
    }
   ],
   "source": [
    "table_2d.flatten()"
   ]
  },
  {
   "cell_type": "code",
   "execution_count": 34,
   "metadata": {},
   "outputs": [],
   "source": [
    "calculs = {\n",
    "    \"max\": np.max,\n",
    "    \"min\": np.min,\n",
    "    \"mean\": np.mean\n",
    "}"
   ]
  },
  {
   "cell_type": "code",
   "execution_count": 35,
   "metadata": {},
   "outputs": [],
   "source": [
    "a = [4, 8, 6, 7, 0]"
   ]
  },
  {
   "cell_type": "code",
   "execution_count": null,
   "metadata": {},
   "outputs": [],
   "source": []
  },
  {
   "cell_type": "code",
   "execution_count": 36,
   "metadata": {},
   "outputs": [
    {
     "data": {
      "text/plain": [
       "[16, 64, 36, 49, 0]"
      ]
     },
     "execution_count": 36,
     "metadata": {},
     "output_type": "execute_result"
    }
   ],
   "source": [
    "liste = list(map(lambda x:x*x, a))\n",
    "liste"
   ]
  },
  {
   "cell_type": "code",
   "execution_count": 37,
   "metadata": {},
   "outputs": [],
   "source": [
    "a = 7\n",
    "b= 0"
   ]
  },
  {
   "cell_type": "code",
   "execution_count": 38,
   "metadata": {},
   "outputs": [
    {
     "name": "stdout",
     "output_type": "stream",
     "text": [
      "division by zero\n",
      "Merci\n"
     ]
    }
   ],
   "source": [
    "try:\n",
    "    division = int(a) / b\n",
    "    print(division)\n",
    "except(ZeroDivisionError) as e:\n",
    "    print(e)\n",
    "except(ValueError) as e:\n",
    "    print(e)\n",
    "except(TypeError) as e:\n",
    "    print(\"erreur\", e)\n",
    "finally:\n",
    "    print('Merci')"
   ]
  },
  {
   "cell_type": "code",
   "execution_count": 39,
   "metadata": {},
   "outputs": [],
   "source": [
    "# x = 5.2\n",
    "# if not type(x) is int:\n",
    "#     raise TypeError(\"ça n'est pas un entier\")"
   ]
  },
  {
   "cell_type": "code",
   "execution_count": null,
   "metadata": {},
   "outputs": [],
   "source": []
  },
  {
   "cell_type": "code",
   "execution_count": 40,
   "metadata": {},
   "outputs": [],
   "source": [
    "import random"
   ]
  },
  {
   "cell_type": "code",
   "execution_count": 41,
   "metadata": {},
   "outputs": [],
   "source": [
    "def creer_groupe(liste_noms, taille_groupes):\n",
    "    '''\n",
    "    Cette fonction prend en entrée une liste de noms, une taille de groupe \n",
    "    et classe les noms dans un dictionnaire pour former des groupes de la taille indiquée, si le \n",
    "    nombre de personnes n'est pas un multiple de la taille du groupe, les personnes\n",
    "    restantes forment un dernier groupe plus petit.\n",
    "\n",
    "    Args:\n",
    "        liste_noms: liste de noms .\n",
    "        taille_groupes: taille des groupes souhaitées.\n",
    "\n",
    "    Returns:\n",
    "        Dictionnaire contenant les groupes formés.\n",
    "    '''\n",
    "    groupes = {}\n",
    "    numero_groupe = 0\n",
    "    if len(liste_noms)%taille_groupes == 0:\n",
    "        nombre_groupes = len(liste_noms)/taille_groupes\n",
    "        for nombre_groupe in range(nombre_groupes):\n",
    "            liste_groupe = []\n",
    "            numero_groupe += 1\n",
    "            for nom in range(taille_groupes):\n",
    "                nom_choisi = random.choice(liste_noms)\n",
    "                indice = -1\n",
    "                for i, n in enumerate(liste_noms):\n",
    "                    if n == nom_choisi:\n",
    "                        indice = i\n",
    "                liste_groupe.append(nom_choisi)\n",
    "                liste_noms = np.delete(liste_noms, indice)\n",
    "            groupes[f\"groupe {numero_groupe}\"] = liste_groupe\n",
    "    else:\n",
    "        nombre_groupes = int(len(liste_noms)/taille_groupes) \n",
    "        for nombre_groupe in range(nombre_groupes):\n",
    "            liste_groupe = []\n",
    "            numero_groupe += 1\n",
    "            for nom in range(taille_groupes):\n",
    "                nom_choisi = random.choice(liste_noms)\n",
    "                indice = -1\n",
    "                for i, n in enumerate(liste_noms):\n",
    "                    if n == nom_choisi:\n",
    "                        indice = i\n",
    "                liste_groupe.append(nom_choisi)\n",
    "                liste_noms = np.delete(liste_noms, indice)\n",
    "            groupes[f\"groupe {numero_groupe}\"] = liste_groupe\n",
    "        liste_groupe = []\n",
    "        numero_groupe += 1\n",
    "        for nom in liste_noms:\n",
    "            liste_groupe.append(nom)\n",
    "        groupes[f\"groupe {numero_groupe}\"] = liste_groupe\n",
    "    return groupes"
   ]
  },
  {
   "cell_type": "code",
   "execution_count": 42,
   "metadata": {},
   "outputs": [],
   "source": [
    "eleves = [\n",
    "    \"arthur\",\n",
    "    \"pierre\",\n",
    "    \"marvin\",\n",
    "    \"max\",\n",
    "    \"charlotte\",\n",
    "    \"abdessamed\",\n",
    "    \"fabien\",\n",
    "    \"lionel\",\n",
    "    \"boris\",\n",
    "    \"cédric\",\n",
    "    \"jonathan\",\n",
    "    \"joachim\",\n",
    "    \"mhoudini\",\n",
    "    \"ilham\",\n",
    "    \"salah\",\n",
    "    \"aldrin\"\n",
    "]"
   ]
  },
  {
   "cell_type": "code",
   "execution_count": 43,
   "metadata": {},
   "outputs": [
    {
     "data": {
      "text/plain": [
       "{'groupe 1': ['cédric',\n",
       "  'arthur',\n",
       "  'marvin',\n",
       "  'max',\n",
       "  'salah',\n",
       "  'mhoudini',\n",
       "  'boris',\n",
       "  'charlotte',\n",
       "  'ilham'],\n",
       " 'groupe 2': ['pierre',\n",
       "  'abdessamed',\n",
       "  'fabien',\n",
       "  'lionel',\n",
       "  'jonathan',\n",
       "  'joachim',\n",
       "  'aldrin']}"
      ]
     },
     "execution_count": 43,
     "metadata": {},
     "output_type": "execute_result"
    }
   ],
   "source": [
    "creer_groupe(eleves, 9)"
   ]
  },
  {
   "cell_type": "markdown",
   "metadata": {},
   "source": [
    "Numpy random\n",
    "Faire un générateur de nombre aléatoire pour le loto et l'euromillion. Attention c’est un tirage aléatoire sans remise (c.a.d que la boule trouvée n’est pas remise en jeu) et tous les chiffres ont la même probabilité d’apparaître.\n",
    "\n",
    "Reprenez l’exercice 16 et faites en sorte que le nombre à trouver soit aléatoire et compris entre 1 et 1000: \n",
    "“Écrivez un programme qui demande à l'utilisateur de deviner un nombre secret (par exemple 42). Le programme indique à l'utilisateur si le nombre à deviner est plus grand ou plus petit que sa proposition et continue de demander un nombre tant que l'utilisateur ne trouve pas le nombre secret. Une fois que l'utilisateur trouve le nombre secret, affichez un message de félicitations.”"
   ]
  },
  {
   "cell_type": "code",
   "execution_count": 44,
   "metadata": {},
   "outputs": [],
   "source": [
    "import numpy as np"
   ]
  },
  {
   "cell_type": "code",
   "execution_count": 45,
   "metadata": {},
   "outputs": [],
   "source": [
    "def generateur_nombre_loto():\n",
    "    liste_tirage = {}\n",
    "    for nb_tirage in range(1, 101):\n",
    "        nombres_49 = np.array(range(1,50))\n",
    "        nombre_10 = np.array(range(1, 11))\n",
    "        liste_nombre = []\n",
    "        for i in range(5):\n",
    "            nombre_choisit = np.random.choice(nombres_49)\n",
    "            liste_nombre.append(nombre_choisit)\n",
    "            for index, nombre in enumerate(nombres_49):\n",
    "                if nombre == nombre_choisit:\n",
    "                    np.delete(nombres_49, index)\n",
    "        nombre_choisit = np.random.choice(nombre_10)\n",
    "        liste_nombre.append(nombre_choisit)\n",
    "        liste_tirage[f\"Tirage numéro {nb_tirage}\"] = liste_nombre\n",
    "    return liste_tirage"
   ]
  },
  {
   "cell_type": "code",
   "execution_count": 46,
   "metadata": {},
   "outputs": [
    {
     "data": {
      "text/plain": [
       "{'Tirage numéro 1': [6, 10, 23, 6, 7, 5],\n",
       " 'Tirage numéro 2': [41, 12, 49, 47, 24, 7],\n",
       " 'Tirage numéro 3': [45, 7, 16, 14, 8, 9],\n",
       " 'Tirage numéro 4': [43, 11, 2, 24, 2, 6],\n",
       " 'Tirage numéro 5': [35, 44, 11, 7, 45, 8],\n",
       " 'Tirage numéro 6': [1, 4, 43, 7, 34, 4],\n",
       " 'Tirage numéro 7': [47, 38, 5, 45, 17, 5],\n",
       " 'Tirage numéro 8': [18, 28, 29, 45, 32, 7],\n",
       " 'Tirage numéro 9': [12, 20, 49, 13, 26, 8],\n",
       " 'Tirage numéro 10': [7, 26, 4, 10, 36, 5],\n",
       " 'Tirage numéro 11': [8, 44, 15, 39, 35, 7],\n",
       " 'Tirage numéro 12': [15, 40, 39, 5, 15, 8],\n",
       " 'Tirage numéro 13': [32, 9, 37, 10, 45, 3],\n",
       " 'Tirage numéro 14': [41, 28, 31, 18, 4, 3],\n",
       " 'Tirage numéro 15': [16, 43, 8, 15, 44, 5],\n",
       " 'Tirage numéro 16': [18, 45, 43, 16, 48, 10],\n",
       " 'Tirage numéro 17': [31, 28, 35, 4, 2, 7],\n",
       " 'Tirage numéro 18': [33, 17, 25, 12, 47, 1],\n",
       " 'Tirage numéro 19': [26, 35, 36, 40, 17, 5],\n",
       " 'Tirage numéro 20': [45, 4, 25, 23, 1, 3],\n",
       " 'Tirage numéro 21': [21, 40, 12, 3, 34, 8],\n",
       " 'Tirage numéro 22': [32, 2, 33, 13, 19, 10],\n",
       " 'Tirage numéro 23': [39, 6, 3, 22, 33, 4],\n",
       " 'Tirage numéro 24': [3, 4, 31, 13, 15, 7],\n",
       " 'Tirage numéro 25': [24, 49, 8, 9, 25, 2],\n",
       " 'Tirage numéro 26': [36, 38, 36, 28, 27, 6],\n",
       " 'Tirage numéro 27': [4, 9, 14, 36, 3, 6],\n",
       " 'Tirage numéro 28': [45, 38, 10, 31, 23, 8],\n",
       " 'Tirage numéro 29': [29, 39, 42, 5, 10, 2],\n",
       " 'Tirage numéro 30': [3, 1, 4, 25, 37, 6],\n",
       " 'Tirage numéro 31': [27, 47, 23, 49, 30, 2],\n",
       " 'Tirage numéro 32': [19, 42, 31, 6, 44, 7],\n",
       " 'Tirage numéro 33': [28, 20, 11, 44, 26, 3],\n",
       " 'Tirage numéro 34': [4, 1, 12, 43, 10, 1],\n",
       " 'Tirage numéro 35': [22, 49, 11, 22, 25, 4],\n",
       " 'Tirage numéro 36': [36, 39, 32, 18, 11, 1],\n",
       " 'Tirage numéro 37': [13, 10, 38, 38, 21, 10],\n",
       " 'Tirage numéro 38': [43, 9, 36, 33, 3, 2],\n",
       " 'Tirage numéro 39': [35, 37, 12, 15, 26, 3],\n",
       " 'Tirage numéro 40': [48, 2, 11, 40, 41, 9],\n",
       " 'Tirage numéro 41': [27, 14, 11, 4, 41, 6],\n",
       " 'Tirage numéro 42': [33, 22, 42, 17, 12, 10],\n",
       " 'Tirage numéro 43': [49, 32, 45, 38, 42, 8],\n",
       " 'Tirage numéro 44': [21, 5, 18, 36, 37, 10],\n",
       " 'Tirage numéro 45': [25, 26, 17, 42, 49, 4],\n",
       " 'Tirage numéro 46': [13, 40, 25, 44, 40, 8],\n",
       " 'Tirage numéro 47': [46, 48, 40, 17, 24, 3],\n",
       " 'Tirage numéro 48': [17, 31, 20, 9, 30, 9],\n",
       " 'Tirage numéro 49': [20, 39, 40, 42, 18, 6],\n",
       " 'Tirage numéro 50': [47, 17, 20, 21, 43, 5],\n",
       " 'Tirage numéro 51': [26, 41, 15, 24, 42, 8],\n",
       " 'Tirage numéro 52': [11, 44, 36, 33, 26, 3],\n",
       " 'Tirage numéro 53': [24, 13, 37, 27, 43, 4],\n",
       " 'Tirage numéro 54': [3, 35, 44, 35, 47, 2],\n",
       " 'Tirage numéro 55': [33, 33, 47, 44, 20, 6],\n",
       " 'Tirage numéro 56': [15, 31, 34, 39, 2, 2],\n",
       " 'Tirage numéro 57': [49, 23, 17, 36, 35, 6],\n",
       " 'Tirage numéro 58': [16, 4, 17, 48, 10, 9],\n",
       " 'Tirage numéro 59': [14, 15, 3, 31, 21, 8],\n",
       " 'Tirage numéro 60': [20, 9, 20, 31, 45, 4],\n",
       " 'Tirage numéro 61': [36, 32, 24, 12, 46, 6],\n",
       " 'Tirage numéro 62': [17, 33, 9, 49, 20, 7],\n",
       " 'Tirage numéro 63': [48, 42, 37, 49, 33, 9],\n",
       " 'Tirage numéro 64': [48, 16, 13, 26, 13, 8],\n",
       " 'Tirage numéro 65': [1, 17, 28, 31, 48, 8],\n",
       " 'Tirage numéro 66': [23, 47, 35, 11, 26, 5],\n",
       " 'Tirage numéro 67': [11, 11, 31, 49, 14, 2],\n",
       " 'Tirage numéro 68': [42, 2, 12, 49, 1, 8],\n",
       " 'Tirage numéro 69': [17, 45, 11, 49, 33, 4],\n",
       " 'Tirage numéro 70': [38, 6, 13, 5, 15, 7],\n",
       " 'Tirage numéro 71': [10, 49, 22, 44, 28, 6],\n",
       " 'Tirage numéro 72': [15, 41, 37, 48, 3, 1],\n",
       " 'Tirage numéro 73': [19, 3, 45, 49, 44, 9],\n",
       " 'Tirage numéro 74': [5, 13, 46, 14, 23, 8],\n",
       " 'Tirage numéro 75': [28, 15, 25, 17, 48, 8],\n",
       " 'Tirage numéro 76': [37, 47, 22, 20, 27, 3],\n",
       " 'Tirage numéro 77': [6, 30, 10, 34, 4, 8],\n",
       " 'Tirage numéro 78': [31, 2, 45, 19, 14, 2],\n",
       " 'Tirage numéro 79': [29, 40, 16, 16, 16, 8],\n",
       " 'Tirage numéro 80': [49, 7, 14, 22, 4, 4],\n",
       " 'Tirage numéro 81': [27, 3, 10, 5, 9, 5],\n",
       " 'Tirage numéro 82': [30, 24, 46, 5, 1, 5],\n",
       " 'Tirage numéro 83': [21, 21, 31, 3, 41, 3],\n",
       " 'Tirage numéro 84': [15, 4, 42, 18, 18, 7],\n",
       " 'Tirage numéro 85': [36, 27, 34, 22, 41, 1],\n",
       " 'Tirage numéro 86': [38, 19, 6, 4, 20, 5],\n",
       " 'Tirage numéro 87': [45, 27, 16, 17, 49, 8],\n",
       " 'Tirage numéro 88': [49, 46, 46, 36, 3, 1],\n",
       " 'Tirage numéro 89': [41, 31, 14, 21, 45, 3],\n",
       " 'Tirage numéro 90': [8, 44, 21, 43, 16, 1],\n",
       " 'Tirage numéro 91': [24, 7, 30, 13, 6, 6],\n",
       " 'Tirage numéro 92': [47, 24, 28, 41, 46, 4],\n",
       " 'Tirage numéro 93': [44, 30, 49, 8, 13, 2],\n",
       " 'Tirage numéro 94': [21, 31, 35, 29, 49, 2],\n",
       " 'Tirage numéro 95': [38, 45, 1, 21, 22, 3],\n",
       " 'Tirage numéro 96': [32, 16, 37, 24, 34, 10],\n",
       " 'Tirage numéro 97': [13, 20, 6, 41, 44, 2],\n",
       " 'Tirage numéro 98': [40, 41, 38, 30, 45, 8],\n",
       " 'Tirage numéro 99': [38, 46, 35, 24, 44, 6],\n",
       " 'Tirage numéro 100': [38, 37, 19, 26, 14, 5]}"
      ]
     },
     "execution_count": 46,
     "metadata": {},
     "output_type": "execute_result"
    }
   ],
   "source": [
    "generateur_nombre_loto()"
   ]
  },
  {
   "cell_type": "code",
   "execution_count": 47,
   "metadata": {},
   "outputs": [],
   "source": [
    "def generateur_nombre_euromillions():\n",
    "    nombres_49 = np.array(range(1,50))\n",
    "    nombre_12 = np.array(range(1, 13))\n",
    "    liste_nombre = []\n",
    "    for i in range(5):\n",
    "        nombre_choisit = np.random.choice(nombres_49)\n",
    "        liste_nombre.append(nombre_choisit)\n",
    "        for index, nombre in enumerate(nombres_49):\n",
    "            if nombre == nombre_choisit:\n",
    "                np.delete(nombres_49, index)\n",
    "    for i in range(2):\n",
    "        nombre_choisit = np.random.choice(nombre_12)\n",
    "        liste_nombre.append(nombre_choisit)\n",
    "        for index, nombre in enumerate(nombres_49):\n",
    "            if nombre == nombre_choisit:\n",
    "                np.delete(nombres_49, index)\n",
    "    return liste_nombre"
   ]
  },
  {
   "cell_type": "code",
   "execution_count": 48,
   "metadata": {},
   "outputs": [
    {
     "data": {
      "text/plain": [
       "[36, 13, 5, 33, 35, 11, 2]"
      ]
     },
     "execution_count": 48,
     "metadata": {},
     "output_type": "execute_result"
    }
   ],
   "source": [
    "generateur_nombre_euromillions()"
   ]
  },
  {
   "cell_type": "code",
   "execution_count": 106,
   "metadata": {},
   "outputs": [],
   "source": [
    "def creer_groupe(liste_noms, taille_groupes):\n",
    "    '''\n",
    "    Cette fonction prend en entrée une liste de noms, une taille de groupe \n",
    "    et classe les noms dans un dictionnaire pour former des groupes de la taille indiquée, si le \n",
    "    nombre de personnes n'est pas un multiple de la taille du groupe, les personnes\n",
    "    restantes forment un dernier groupe plus petit.\n",
    "\n",
    "    Args:\n",
    "        liste_noms: liste de noms .\n",
    "        taille_groupes: taille des groupes souhaitées.\n",
    "\n",
    "    Returns:\n",
    "        Dictionnaire contenant les groupes formés.\n",
    "    '''\n",
    "    groupes = {}\n",
    "    numero_groupe = 0\n",
    "    a = 0\n",
    "    nombre_groupes = int(len(liste_noms)/taille_groupes) \n",
    "    np.random.shuffle(liste_noms)\n",
    "    for nombre_groupe in range(nombre_groupes):\n",
    "        numero_groupe += 1\n",
    "        groupes[f\"groupe {numero_groupe}\"] =  liste_noms[a:a + taille_groupes]\n",
    "        a += taille_groupes\n",
    "    if len(liste_noms)%taille_groupes != 0:\n",
    "        numero_groupe += 1\n",
    "        groupes[f\"groupe {numero_groupe}\"] =  liste_noms[a:]\n",
    "    return groupes"
   ]
  },
  {
   "cell_type": "code",
   "execution_count": 130,
   "metadata": {},
   "outputs": [
    {
     "data": {
      "text/plain": [
       "{'groupe 1': ['boris', 'ilham', 'marvin', 'charlotte', 'jonathan'],\n",
       " 'groupe 2': ['salah', 'joachim', 'abdessamed', 'lionel', 'fabien'],\n",
       " 'groupe 3': ['pierre', 'arthur', 'max', 'aldrin', 'cédric'],\n",
       " 'groupe 4': ['mhoudini']}"
      ]
     },
     "execution_count": 130,
     "metadata": {},
     "output_type": "execute_result"
    }
   ],
   "source": [
    "creer_groupe(eleves, 5)"
   ]
  },
  {
   "cell_type": "code",
   "execution_count": null,
   "metadata": {},
   "outputs": [],
   "source": []
  },
  {
   "cell_type": "code",
   "execution_count": null,
   "metadata": {},
   "outputs": [],
   "source": []
  },
  {
   "cell_type": "code",
   "execution_count": null,
   "metadata": {},
   "outputs": [],
   "source": []
  }
 ],
 "metadata": {
  "kernelspec": {
   "display_name": "base",
   "language": "python",
   "name": "python3"
  },
  "language_info": {
   "codemirror_mode": {
    "name": "ipython",
    "version": 3
   },
   "file_extension": ".py",
   "mimetype": "text/x-python",
   "name": "python",
   "nbconvert_exporter": "python",
   "pygments_lexer": "ipython3",
   "version": "3.11.4"
  },
  "orig_nbformat": 4
 },
 "nbformat": 4,
 "nbformat_minor": 2
}
