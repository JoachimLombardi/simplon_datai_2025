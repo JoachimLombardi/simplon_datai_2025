{
  "cells": [
    {
      "cell_type": "markdown",
      "metadata": {
        "colab_type": "text",
        "id": "view-in-github"
      },
      "source": [
        "<a href=\"https://colab.research.google.com/github/JoachimLombardi/simplon_datai_2025/blob/main/explication_math.ipynb\" target=\"_parent\"><img src=\"https://colab.research.google.com/assets/colab-badge.svg\" alt=\"Open In Colab\"/></a>"
      ]
    },
    {
      "cell_type": "code",
      "execution_count": 1,
      "metadata": {
        "id": "eZlP___Qzq6H"
      },
      "outputs": [],
      "source": [
        "import numpy as np"
      ]
    },
    {
      "cell_type": "code",
      "execution_count": 2,
      "metadata": {
        "colab": {
          "base_uri": "https://localhost:8080/"
        },
        "id": "s3D2mDpMzzGg",
        "outputId": "12be2b49-b1fd-48b5-82a8-f13c43609240"
      },
      "outputs": [
        {
          "data": {
            "text/plain": [
              "array([[0.],\n",
              "       [0.],\n",
              "       [0.],\n",
              "       [0.],\n",
              "       [0.]])"
            ]
          },
          "execution_count": 2,
          "metadata": {},
          "output_type": "execute_result"
        }
      ],
      "source": [
        "a = np.zeros((5,1))\n",
        "a"
      ]
    },
    {
      "cell_type": "code",
      "execution_count": 3,
      "metadata": {
        "colab": {
          "base_uri": "https://localhost:8080/"
        },
        "id": "rQ5MvKiZ0qru",
        "outputId": "90cd0f49-2fc2-42b6-ef4e-6aae490fcef6"
      },
      "outputs": [
        {
          "data": {
            "text/plain": [
              "array([1, 2, 3, 4, 5])"
            ]
          },
          "execution_count": 3,
          "metadata": {},
          "output_type": "execute_result"
        }
      ],
      "source": [
        "b = np.array(([1,2,3,4,5]))\n",
        "b"
      ]
    },
    {
      "cell_type": "code",
      "execution_count": 4,
      "metadata": {
        "colab": {
          "base_uri": "https://localhost:8080/"
        },
        "id": "kltmioGI0zAQ",
        "outputId": "b8147a65-67d0-4682-8717-4b6c5a6f938e"
      },
      "outputs": [
        {
          "data": {
            "text/plain": [
              "array([[1., 2., 3., 4., 5.],\n",
              "       [1., 2., 3., 4., 5.],\n",
              "       [1., 2., 3., 4., 5.],\n",
              "       [1., 2., 3., 4., 5.],\n",
              "       [1., 2., 3., 4., 5.]])"
            ]
          },
          "execution_count": 4,
          "metadata": {},
          "output_type": "execute_result"
        }
      ],
      "source": [
        "A = a+b\n",
        "A"
      ]
    },
    {
      "cell_type": "code",
      "execution_count": 5,
      "metadata": {
        "colab": {
          "base_uri": "https://localhost:8080/"
        },
        "id": "aTeweRpe1AZ9",
        "outputId": "6f9cd877-a4a9-4516-800a-2b6f911829b1"
      },
      "outputs": [
        {
          "data": {
            "text/plain": [
              "array([[1., 1., 1., 1., 1.],\n",
              "       [1., 1., 1., 1., 1.],\n",
              "       [1., 1., 1., 1., 1.],\n",
              "       [1., 1., 1., 1., 1.],\n",
              "       [1., 1., 1., 1., 1.]])"
            ]
          },
          "execution_count": 5,
          "metadata": {},
          "output_type": "execute_result"
        }
      ],
      "source": [
        "B = np.ones((5,5))\n",
        "B"
      ]
    },
    {
      "cell_type": "code",
      "execution_count": 6,
      "metadata": {
        "colab": {
          "base_uri": "https://localhost:8080/"
        },
        "id": "kWmysc471G1Q",
        "outputId": "875339ed-3fbf-4a7a-9aff-524ee91eef4e"
      },
      "outputs": [
        {
          "data": {
            "text/plain": [
              "array([[1., 2., 3., 4., 5.],\n",
              "       [1., 2., 3., 4., 5.],\n",
              "       [1., 2., 3., 4., 5.],\n",
              "       [1., 2., 3., 4., 5.],\n",
              "       [1., 2., 3., 4., 5.]])"
            ]
          },
          "execution_count": 6,
          "metadata": {},
          "output_type": "execute_result"
        }
      ],
      "source": [
        "A * B"
      ]
    },
    {
      "cell_type": "code",
      "execution_count": 7,
      "metadata": {
        "colab": {
          "base_uri": "https://localhost:8080/"
        },
        "id": "of3ifPaE161p",
        "outputId": "c9ed6f9f-6cc6-4a91-e8d9-e227118e3185"
      },
      "outputs": [
        {
          "data": {
            "text/plain": [
              "array([[15., 15., 15., 15., 15.],\n",
              "       [15., 15., 15., 15., 15.],\n",
              "       [15., 15., 15., 15., 15.],\n",
              "       [15., 15., 15., 15., 15.],\n",
              "       [15., 15., 15., 15., 15.]])"
            ]
          },
          "execution_count": 7,
          "metadata": {},
          "output_type": "execute_result"
        }
      ],
      "source": [
        "np.dot(A,B)"
      ]
    },
    {
      "cell_type": "code",
      "execution_count": 8,
      "metadata": {
        "colab": {
          "base_uri": "https://localhost:8080/"
        },
        "id": "p0Fzl7sd2IL7",
        "outputId": "2e4a96d4-fa27-4e35-f989-aa127b9d4086"
      },
      "outputs": [
        {
          "data": {
            "text/plain": [
              "array([[1., 1., 1., 1., 1.],\n",
              "       [2., 2., 2., 2., 2.],\n",
              "       [3., 3., 3., 3., 3.],\n",
              "       [4., 4., 4., 4., 4.],\n",
              "       [5., 5., 5., 5., 5.]])"
            ]
          },
          "execution_count": 8,
          "metadata": {},
          "output_type": "execute_result"
        }
      ],
      "source": [
        "A.T"
      ]
    },
    {
      "cell_type": "code",
      "execution_count": 9,
      "metadata": {
        "colab": {
          "base_uri": "https://localhost:8080/"
        },
        "id": "a8GKhXSI2UQ3",
        "outputId": "20ec9bb9-ffe5-4848-d2da-9767817590dc"
      },
      "outputs": [
        {
          "data": {
            "text/plain": [
              "array([[1., 0., 0., 0., 0.],\n",
              "       [0., 1., 0., 0., 0.],\n",
              "       [0., 0., 1., 0., 0.],\n",
              "       [0., 0., 0., 1., 0.],\n",
              "       [0., 0., 0., 0., 1.]])"
            ]
          },
          "execution_count": 9,
          "metadata": {},
          "output_type": "execute_result"
        }
      ],
      "source": [
        "Id = np.eye(5,5)\n",
        "Id"
      ]
    },
    {
      "cell_type": "code",
      "execution_count": 10,
      "metadata": {
        "colab": {
          "base_uri": "https://localhost:8080/"
        },
        "id": "KniSke0m2sZv",
        "outputId": "3fa6b128-ea78-40a6-f836-5bc30421b53b"
      },
      "outputs": [
        {
          "data": {
            "text/plain": [
              "array([[1., 0., 0., 0., 0.],\n",
              "       [0., 2., 0., 0., 0.],\n",
              "       [0., 0., 3., 0., 0.],\n",
              "       [0., 0., 0., 4., 0.],\n",
              "       [0., 0., 0., 0., 5.]])"
            ]
          },
          "execution_count": 10,
          "metadata": {},
          "output_type": "execute_result"
        }
      ],
      "source": [
        "Id*A"
      ]
    },
    {
      "cell_type": "code",
      "execution_count": 11,
      "metadata": {
        "colab": {
          "base_uri": "https://localhost:8080/"
        },
        "id": "Z8dRnBUR24j6",
        "outputId": "32689b39-aaba-4513-e694-27bd8e1cf586"
      },
      "outputs": [
        {
          "data": {
            "text/plain": [
              "array([[1., 2., 3., 4., 5.],\n",
              "       [1., 2., 3., 4., 5.],\n",
              "       [1., 2., 3., 4., 5.],\n",
              "       [1., 2., 3., 4., 5.],\n",
              "       [1., 2., 3., 4., 5.]])"
            ]
          },
          "execution_count": 11,
          "metadata": {},
          "output_type": "execute_result"
        }
      ],
      "source": [
        "np.dot(Id,A)"
      ]
    },
    {
      "cell_type": "code",
      "execution_count": 12,
      "metadata": {
        "colab": {
          "base_uri": "https://localhost:8080/"
        },
        "id": "8GCxH15f3FlW",
        "outputId": "f5cacc62-b80f-4a4a-b2bc-9323020f9804"
      },
      "outputs": [
        {
          "data": {
            "text/plain": [
              "array([[1.        , 0.5       , 0.33333333, 0.25      , 0.2       ],\n",
              "       [1.        , 0.5       , 0.33333333, 0.25      , 0.2       ],\n",
              "       [1.        , 0.5       , 0.33333333, 0.25      , 0.2       ],\n",
              "       [1.        , 0.5       , 0.33333333, 0.25      , 0.2       ],\n",
              "       [1.        , 0.5       , 0.33333333, 0.25      , 0.2       ]])"
            ]
          },
          "execution_count": 12,
          "metadata": {},
          "output_type": "execute_result"
        }
      ],
      "source": [
        "C = 1/A\n",
        "C"
      ]
    },
    {
      "cell_type": "code",
      "execution_count": 13,
      "metadata": {
        "colab": {
          "base_uri": "https://localhost:8080/"
        },
        "id": "Kvoijby93M3l",
        "outputId": "7d66e7e7-4da6-43dc-c9f4-4d8a535a4e81"
      },
      "outputs": [
        {
          "data": {
            "text/plain": [
              "array([[ 2.28333333,  4.56666667,  6.85      ,  9.13333333, 11.41666667],\n",
              "       [ 2.28333333,  4.56666667,  6.85      ,  9.13333333, 11.41666667],\n",
              "       [ 2.28333333,  4.56666667,  6.85      ,  9.13333333, 11.41666667],\n",
              "       [ 2.28333333,  4.56666667,  6.85      ,  9.13333333, 11.41666667],\n",
              "       [ 2.28333333,  4.56666667,  6.85      ,  9.13333333, 11.41666667]])"
            ]
          },
          "execution_count": 13,
          "metadata": {},
          "output_type": "execute_result"
        }
      ],
      "source": [
        "np.dot(C,A)"
      ]
    },
    {
      "cell_type": "code",
      "execution_count": 14,
      "metadata": {
        "colab": {
          "base_uri": "https://localhost:8080/"
        },
        "id": "N_LBs3Q63tRP",
        "outputId": "6d4a3782-0ace-4407-ebba-c9e0f52a4c61"
      },
      "outputs": [
        {
          "data": {
            "text/plain": [
              "array([[ 5.73079867,  1.94429446,  5.18224427,  3.42183604, -0.30485753],\n",
              "       [ 1.80372396,  4.38019488, -0.17683997,  5.27098537,  2.67628319],\n",
              "       [-3.22943011,  3.4499556 , -2.46467255, -1.13125966,  3.73857315],\n",
              "       [ 0.00992886, -1.02652423,  5.94452461,  2.79419975,  4.52050825],\n",
              "       [ 9.5097815 , -1.21003221,  6.31041317,  1.06970928,  3.34504851]])"
            ]
          },
          "execution_count": 14,
          "metadata": {},
          "output_type": "execute_result"
        }
      ],
      "source": [
        "P = np.random.randn(5,5)*3  +  2\n",
        "P"
      ]
    },
    {
      "cell_type": "code",
      "execution_count": 15,
      "metadata": {
        "colab": {
          "base_uri": "https://localhost:8080/"
        },
        "id": "_MsWMIB54BLG",
        "outputId": "5ab33f73-e50e-4f6c-a6c7-1fa07c42d9f3"
      },
      "outputs": [
        {
          "data": {
            "text/plain": [
              "array([[-0.04068464,  0.04734614, -0.02543816, -0.09272428,  0.11215042],\n",
              "       [ 0.24111517, -0.06823623,  0.19987205, -0.0609713 , -0.06442051],\n",
              "       [ 0.20582734, -0.15059339,  0.07770533,  0.08996289, -0.06917881],\n",
              "       [-0.10195525,  0.19316208, -0.18359132,  0.05842641, -0.03760355],\n",
              "       [-0.15280314,  0.06303638,  0.05674044,  0.05315563,  0.09933933]])"
            ]
          },
          "execution_count": 15,
          "metadata": {},
          "output_type": "execute_result"
        }
      ],
      "source": [
        "Pinv = np.linalg.inv(P)\n",
        "Pinv"
      ]
    },
    {
      "cell_type": "code",
      "execution_count": 16,
      "metadata": {
        "colab": {
          "base_uri": "https://localhost:8080/"
        },
        "id": "t9O9upxl4alD",
        "outputId": "d2c75769-5cc2-4cef-8e2a-da6dade7dba1"
      },
      "outputs": [
        {
          "data": {
            "text/plain": [
              "array([[ 1.00000000e+00, -6.79537191e-18, -1.23276779e-17,\n",
              "         3.67788538e-17, -6.25382274e-17],\n",
              "       [-1.73612312e-16,  1.00000000e+00, -5.42703952e-17,\n",
              "         1.00451281e-16,  1.62447058e-16],\n",
              "       [-3.85184481e-16,  1.47976271e-16,  1.00000000e+00,\n",
              "        -1.05262462e-16,  1.90919137e-16],\n",
              "       [ 1.58121450e-16, -1.88050514e-16,  1.27632171e-16,\n",
              "         1.00000000e+00, -1.99639847e-16],\n",
              "       [ 1.22826347e-16,  2.26963368e-17,  5.44644515e-17,\n",
              "        -1.80991608e-17,  1.00000000e+00]])"
            ]
          },
          "execution_count": 16,
          "metadata": {},
          "output_type": "execute_result"
        }
      ],
      "source": [
        "np.dot(Pinv,P)"
      ]
    },
    {
      "cell_type": "code",
      "execution_count": 17,
      "metadata": {
        "colab": {
          "base_uri": "https://localhost:8080/",
          "height": 430
        },
        "id": "qf5PnXhM7qYG",
        "outputId": "94cc6255-ceeb-4347-cf93-295bdb7143d4"
      },
      "outputs": [
        {
          "data": {
            "image/png": "[encoded data removed]",
            "text/plain": [
              "<Figure size 640x480 with 1 Axes>"
            ]
          },
          "metadata": {},
          "output_type": "display_data"
        }
      ],
      "source": [
        "def affine(a,b,x1,x2):\n",
        "  y = list()\n",
        "  x = list(range(x1,x2))\n",
        "  for n in x :\n",
        "    y.append(a*n+b)\n",
        "  return np.array(y), x\n",
        "\n",
        "a = .1\n",
        "b =  0\n",
        "x1 = -10\n",
        "x2 = 10\n",
        "y,x = affine(a,b,x1,x2)\n",
        "\n",
        "import matplotlib.pyplot as plt\n",
        "\n",
        "plt.plot(x,y)\n",
        "plt.grid()\n"
      ]
    },
    {
      "cell_type": "code",
      "execution_count": 18,
      "metadata": {
        "id": "WQ-Z99JKDX4O"
      },
      "outputs": [],
      "source": [
        "nn = y.shape[0]"
      ]
    },
    {
      "cell_type": "code",
      "execution_count": 19,
      "metadata": {
        "id": "40488JOE-yoU"
      },
      "outputs": [],
      "source": [
        "yerr = y + np.random.randn(nn)/10"
      ]
    },
    {
      "cell_type": "code",
      "execution_count": 20,
      "metadata": {
        "colab": {
          "base_uri": "https://localhost:8080/",
          "height": 430
        },
        "id": "oKU1XS9TDiQ7",
        "outputId": "3155fc9e-1d88-4475-e6c8-fe45623f5be9"
      },
      "outputs": [
        {
          "data": {
            "image/png": "[encoded data removed]",
            "text/plain": [
              "<Figure size 640x480 with 1 Axes>"
            ]
          },
          "metadata": {},
          "output_type": "display_data"
        }
      ],
      "source": [
        "plt.plot(x,y)\n",
        "plt.plot(x,yerr,'o')\n",
        "plt.grid()"
      ]
    },
    {
      "cell_type": "code",
      "execution_count": 21,
      "metadata": {
        "colab": {
          "base_uri": "https://localhost:8080/",
          "height": 430
        },
        "id": "BvUunDGTD3lC",
        "outputId": "2d2f5774-2f74-46e6-ec5b-6bc6c6502baf"
      },
      "outputs": [
        {
          "data": {
            "image/png": "[encoded data removed]",
            "text/plain": [
              "<Figure size 640x480 with 1 Axes>"
            ]
          },
          "metadata": {},
          "output_type": "display_data"
        }
      ],
      "source": [
        "def erreur(verite,prediction):\n",
        "  err = np.mean( (verite-prediction)**2  )\n",
        "  return err\n",
        "\n",
        "\n",
        "list_err = list()\n",
        "aaaaaa = np.arange(-2,2,.1)\n",
        "for a in list(aaaaaa):\n",
        "  y_test,x = affine(a,0,x1,x2)\n",
        "  list_err.append(erreur(y,y_test))\n",
        "\n",
        "\n",
        "plt.plot(aaaaaa,list_err)\n",
        "plt.grid()"
      ]
    },
    {
      "cell_type": "code",
      "execution_count": null,
      "metadata": {
        "id": "SLENKyD1HLBi"
      },
      "outputs": [],
      "source": []
    },
    {
      "cell_type": "code",
      "execution_count": null,
      "metadata": {},
      "outputs": [],
      "source": []
    }
  ],
  "metadata": {
    "colab": {
      "include_colab_link": true,
      "provenance": []
    },
    "kernelspec": {
      "display_name": "Python 3",
      "name": "python3"
    },
    "language_info": {
      "codemirror_mode": {
        "name": "ipython",
        "version": 3
      },
      "file_extension": ".py",
      "mimetype": "text/x-python",
      "name": "python",
      "nbconvert_exporter": "python",
      "pygments_lexer": "ipython3",
      "version": "3.11.4"
    }
  },
  "nbformat": 4,
  "nbformat_minor": 0
}
