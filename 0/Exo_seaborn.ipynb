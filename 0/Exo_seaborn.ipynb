{
 "cells": [
  {
   "cell_type": "markdown",
   "metadata": {},
   "source": [
    "Exercice 1 - Visualisation des notes des étudiants :\n",
    "\n",
    "a) Chargez le fichier \"student_grades.csv\" dans un DataFrame nommé \"grades_df\".\n",
    "\n",
    "b) Utilisez Seaborn pour créer un histogramme représentant la distribution des notes des étudiants.\n",
    "\n",
    "Exercice 2 - Comparaison des notes en fonction des salles :\n",
    "\n",
    "a) Utilisez le DataFrame \"grades_df\" pour créer un graphique à barres montrant la moyenne des notes des étudiants pour chaque salle.\n",
    "\n",
    "Exercice 3 - Comparaison des notes en fonction du statut de réussite :\n",
    "\n",
    "a) Utilisez le DataFrame \"grades_df\" pour créer un graphique à barres montrant le nombre d'étudiants ayant réussi et échoué.\n",
    "\n",
    "Exercice 4 - Visualisation de la corrélation entre les variables :\n",
    "\n",
    "a) Chargez le fichier \"titanic.csv\" dans un DataFrame nommé \"titanic_df\".\n",
    "\n",
    "b) Utilisez Seaborn pour créer une matrice de corrélation pour les variables numériques du DataFrame \"titanic_df\".\n",
    "\n",
    "Exercice 5 - Comparaison des tarifs en fonction du statut de survie :\n",
    "\n",
    "a) Utilisez le DataFrame \"titanic_df\" pour créer un graphique en boîte (boxplot) montrant la distribution des tarifs payés par les passagers en fonction de leur statut de survie (survécu ou non)."
   ]
  },
  {
   "cell_type": "code",
   "execution_count": null,
   "metadata": {},
   "outputs": [],
   "source": []
  },
  {
   "cell_type": "code",
   "execution_count": null,
   "metadata": {},
   "outputs": [],
   "source": []
  },
  {
   "cell_type": "code",
   "execution_count": null,
   "metadata": {},
   "outputs": [],
   "source": []
  },
  {
   "cell_type": "code",
   "execution_count": null,
   "metadata": {},
   "outputs": [],
   "source": []
  },
  {
   "cell_type": "code",
   "execution_count": null,
   "metadata": {},
   "outputs": [],
   "source": []
  },
  {
   "cell_type": "code",
   "execution_count": null,
   "metadata": {},
   "outputs": [],
   "source": []
  },
  {
   "cell_type": "code",
   "execution_count": null,
   "metadata": {},
   "outputs": [],
   "source": []
  },
  {
   "cell_type": "code",
   "execution_count": null,
   "metadata": {},
   "outputs": [],
   "source": []
  },
  {
   "cell_type": "code",
   "execution_count": null,
   "metadata": {},
   "outputs": [],
   "source": []
  },
  {
   "cell_type": "code",
   "execution_count": null,
   "metadata": {},
   "outputs": [],
   "source": []
  },
  {
   "cell_type": "code",
   "execution_count": null,
   "metadata": {},
   "outputs": [],
   "source": []
  }
 ],
 "metadata": {
  "kernelspec": {
   "display_name": "base",
   "language": "python",
   "name": "python3"
  },
  "language_info": {
   "codemirror_mode": {
    "name": "ipython",
    "version": 3
   },
   "file_extension": ".py",
   "mimetype": "text/x-python",
   "name": "python",
   "nbconvert_exporter": "python",
   "pygments_lexer": "ipython3",
   "version": "3.11.4"
  },
  "orig_nbformat": 4
 },
 "nbformat": 4,
 "nbformat_minor": 2
}
