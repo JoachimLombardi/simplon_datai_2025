{
 "cells": [
  {
   "cell_type": "code",
   "execution_count": 14,
   "metadata": {},
   "outputs": [],
   "source": [
    "import numpy as np"
   ]
  },
  {
   "cell_type": "code",
   "execution_count": 15,
   "metadata": {},
   "outputs": [],
   "source": [
    "def max(tableau:np.array(float)) -> float: \n",
    "    max = tableau[0]\n",
    "    indice_max = 0\n",
    "    for indice in range(1, len(tableau)):\n",
    "        if max < tableau[indice]:\n",
    "            max = tableau[indice]\n",
    "            indice_max = indice\n",
    "    return max, indice_max"
   ]
  },
  {
   "cell_type": "code",
   "execution_count": 16,
   "metadata": {},
   "outputs": [],
   "source": [
    "def min(tableau:np.array(float)) -> float: \n",
    "    min = tableau[0]\n",
    "    indice_min = 0\n",
    "    for indice in range(1, len(tableau)):\n",
    "        if min > tableau[indice]:\n",
    "            min = tableau[indice]\n",
    "            indice_min = indice\n",
    "    return min, indice_min"
   ]
  },
  {
   "cell_type": "code",
   "execution_count": 17,
   "metadata": {},
   "outputs": [
    {
     "data": {
      "text/plain": [
       "(0.8375156412638621, 6)"
      ]
     },
     "execution_count": 17,
     "metadata": {},
     "output_type": "execute_result"
    }
   ],
   "source": [
    "tab = np.random.random(size=(9))\n",
    "max(tab)"
   ]
  },
  {
   "cell_type": "code",
   "execution_count": 18,
   "metadata": {},
   "outputs": [],
   "source": [
    "def classer(tableau, ordre=\"ascendant\"):\n",
    "    tab_classer = []\n",
    "    limite = min\n",
    "    if ordre == \"décroissant\":\n",
    "        limite = max\n",
    "    for nombre in tableau:\n",
    "        tab_classer.append(limite(tableau=tableau)[0])\n",
    "        tableau = np.delete(tableau, limite(tableau=tableau)[1])\n",
    "    return tab_classer    \n"
   ]
  },
  {
   "cell_type": "code",
   "execution_count": 20,
   "metadata": {},
   "outputs": [
    {
     "data": {
      "text/plain": [
       "[0.8375156412638621,\n",
       " 0.8008877944718023,\n",
       " 0.6372824552844686,\n",
       " 0.6025856590036367,\n",
       " 0.24148305684652094,\n",
       " 0.24105341981842365,\n",
       " 0.1368792204110455,\n",
       " 0.13009233489714744,\n",
       " 0.10603004947668926]"
      ]
     },
     "execution_count": 20,
     "metadata": {},
     "output_type": "execute_result"
    }
   ],
   "source": [
    "classer(tab, \"décroissant\")"
   ]
  },
  {
   "cell_type": "code",
   "execution_count": null,
   "metadata": {},
   "outputs": [],
   "source": []
  }
 ],
 "metadata": {
  "kernelspec": {
   "display_name": "Python 3",
   "language": "python",
   "name": "python3"
  },
  "language_info": {
   "codemirror_mode": {
    "name": "ipython",
    "version": 3
   },
   "file_extension": ".py",
   "mimetype": "text/x-python",
   "name": "python",
   "nbconvert_exporter": "python",
   "pygments_lexer": "ipython3",
   "version": "3.11.4"
  },
  "orig_nbformat": 4
 },
 "nbformat": 4,
 "nbformat_minor": 2
}
