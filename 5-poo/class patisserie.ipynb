{
 "cells": [
  {
   "cell_type": "code",
   "execution_count": 83,
   "metadata": {},
   "outputs": [],
   "source": [
    "class Club_de_sport():\n",
    "    def __init__(self, nombre_de_salle, bloc_sanitaire, type_equipements, climatisation) -> None:\n",
    "        self._type_equipements = type_equipements\n",
    "        self._climatisation = climatisation\n",
    "        self._nombre_de_salle = nombre_de_salle\n",
    "        self._bloc_sanitaire = bloc_sanitaire\n",
    "    \n",
    "    @property\n",
    "    def nombre_de_salle(self):\n",
    "        return self._nombre_de_salle\n",
    "    \n",
    "    @nombre_de_salle.setter\n",
    "    def nombre_de_salle(self, nombre_de_salle):\n",
    "        self._nombre_de_salle = nombre_de_salle\n",
    "\n",
    "    @property\n",
    "    def bloc_sanitaire(self):\n",
    "        return self._bloc_sanitaire\n",
    "    \n",
    "    @bloc_sanitaire.setter\n",
    "    def bloc_sanitaire(self, bloc_sanitaire):\n",
    "        self._bloc_sanitaire = bloc_sanitaire\n",
    "\n",
    "    @property\n",
    "    def type_equipements(self):\n",
    "        return self._type_equipements\n",
    "    \n",
    "    @type_equipements.setter\n",
    "    def type_equipements(self, type_equipements):\n",
    "        self._type_equipements = type_equipements\n",
    "\n",
    "    @property\n",
    "    def climatisation(self):\n",
    "        return self._climatisation\n",
    "    \n",
    "    @climatisation.setter\n",
    "    def climatisation(self, climatisation):\n",
    "        self._climatisation = climatisation\n",
    "    \n",
    "    def __str__(self) -> str:\n",
    "        return f\"La salle de sport comporte {self.nombre_de_salle} salles, un bloc sanitaire de type {self.bloc_sanitaire}, les équipements sont des {self.type_equipements} et le type de climatisation est {self.climatisation}\""
   ]
  },
  {
   "cell_type": "code",
   "execution_count": 84,
   "metadata": {},
   "outputs": [],
   "source": [
    "class Salle_de_musculation(Club_de_sport):\n",
    "    def __init__(self, nombre_de_salle, bloc_sanitaire, type_equipements=\"haltères et des tapis de courses\", climatisation=\"air conditionnée\") -> None:\n",
    "        super().__init__(nombre_de_salle, bloc_sanitaire, type_equipements, climatisation)\n",
    "    def __str__(self) -> str:\n",
    "        return super().__str__()\n",
    "      "
   ]
  },
  {
   "cell_type": "code",
   "execution_count": 85,
   "metadata": {},
   "outputs": [],
   "source": [
    "sm = Salle_de_musculation(nombre_de_salle=3, bloc_sanitaire=\"douches\")"
   ]
  },
  {
   "cell_type": "code",
   "execution_count": 86,
   "metadata": {},
   "outputs": [
    {
     "name": "stdout",
     "output_type": "stream",
     "text": [
      "La salle de sport comporte 3 salles, un bloc sanitaire de type douches, les équipements sont des haltères et des tapis de courses et le type de climatisation est air conditionnée\n"
     ]
    }
   ],
   "source": [
    "print(sm)"
   ]
  },
  {
   "cell_type": "code",
   "execution_count": 87,
   "metadata": {},
   "outputs": [],
   "source": [
    "sm._climatisation = \"ar\""
   ]
  },
  {
   "cell_type": "code",
   "execution_count": 88,
   "metadata": {},
   "outputs": [
    {
     "data": {
      "text/plain": [
       "'ar'"
      ]
     },
     "execution_count": 88,
     "metadata": {},
     "output_type": "execute_result"
    }
   ],
   "source": [
    "sm._climatisation"
   ]
  },
  {
   "cell_type": "code",
   "execution_count": null,
   "metadata": {},
   "outputs": [],
   "source": []
  },
  {
   "cell_type": "code",
   "execution_count": null,
   "metadata": {},
   "outputs": [],
   "source": []
  }
 ],
 "metadata": {
  "kernelspec": {
   "display_name": "base",
   "language": "python",
   "name": "python3"
  },
  "language_info": {
   "codemirror_mode": {
    "name": "ipython",
    "version": 3
   },
   "file_extension": ".py",
   "mimetype": "text/x-python",
   "name": "python",
   "nbconvert_exporter": "python",
   "pygments_lexer": "ipython3",
   "version": "3.11.4"
  }
 },
 "nbformat": 4,
 "nbformat_minor": 2
}
